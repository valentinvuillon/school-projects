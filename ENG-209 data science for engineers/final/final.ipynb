{
 "cells": [
  {
   "cell_type": "markdown",
   "metadata": {},
   "source": [
    "-----\n",
    "# Data Science pour Ingénieur.e.s avec Python\n",
    "## Project d'Examen Final\n",
    "#### ENG 209 - Automne 2020\n",
    "\n",
    "Date limite de soumission du projet: **11.12.2020 23:59:59**\n",
    "\n",
    "----\n",
    "\n",
    "### Description du projet\n",
    "\n",
    "Dans cette série d'exercices vous allez étudier les données d'emission de $CO_2$.\n",
    "\n",
    "----"
   ]
  },
  {
   "cell_type": "markdown",
   "metadata": {},
   "source": [
    "#### **Question 1**: Import des paquets python (0.2/5 pt)\n",
    "\n",
    "Veuillez importer les paquets pythons suivants sous les alias indiqués entre parenthèse.\n",
    "\n",
    "- pandas (pd)\n",
    "- numpy (np)\n",
    "- matplotlib.pyplot (plt)\n",
    "- geopandas (gp)"
   ]
  },
  {
   "cell_type": "code",
   "execution_count": null,
   "metadata": {},
   "outputs": [],
   "source": [
    "# import des paquets python\n",
    "import pandas as pd\n",
    "import numpy as np\n",
    "import matplotlib.pyplot as plt\n",
    "import geopandas as gp\n",
    "import plotly.express as px\n",
    "\n",
    "!git lfs pull"
   ]
  },
  {
   "cell_type": "markdown",
   "metadata": {},
   "source": [
    "----\n",
    "#### **Question 2**: Lecture des fichiers de données en DataFrames panda (0.2/5 pt)\n",
    "\n",
    "a. Créer une DataFrame pandas `df` à partir du fichier de données `../data/co2-emission/co-emissions-per-capita.csv`\n",
    "\n",
    "b. Vérifier ensuite la DataFrame _df_\n",
    "* La structure: variables et leur types\n",
    "* Statistiques sommaires: min, max, std des variables numériques\n",
    "* Aperçu du contenu: les 5 premières entrées de la DataFrames _df_\n"
   ]
  },
  {
   "cell_type": "code",
   "execution_count": null,
   "metadata": {},
   "outputs": [],
   "source": [
    "# Lecture de la donnée dans la DataFrame df (1 ligne)\n",
    "df = pd.read_csv('../data/co2-emission/co-emissions-per-capita.csv')"
   ]
  },
  {
   "cell_type": "code",
   "execution_count": null,
   "metadata": {},
   "outputs": [],
   "source": [
    "# Afficher la structure de df (1 ligne)\n",
    "df.info()"
   ]
  },
  {
   "cell_type": "code",
   "execution_count": null,
   "metadata": {},
   "outputs": [],
   "source": [
    "# Afficher les statistiques sommaires de df (1 ligne)\n",
    "df.describe()"
   ]
  },
  {
   "cell_type": "code",
   "execution_count": null,
   "metadata": {},
   "outputs": [],
   "source": [
    "# Aperçu du contenu des données (1 ligne)\n",
    "df.head(5)"
   ]
  },
  {
   "cell_type": "markdown",
   "metadata": {},
   "source": [
    "----\n",
    "#### **Question 3**: Comprendre la donnée (0.6/5pt)\n",
    "\n",
    "La donnée indique pour chaque année et chaque pays (ou région) les emissions de $CO_2$ par capita.\n",
    "\n",
    "a À quelle année remontent les première données de $CO_2$, et jusqu'à quelle année (0.2pt)\n",
    "\n",
    "b. Visualiser l'évolution au cours des années du nombre de pays (ou régions) pour lesquelles les mesures de $CO_2$ sont disponibles dans un pandas plot (0.2pt, +0.1 bonus pour style)\n",
    "\n",
    "c. Afficher un numpy.ndarray de deux colonnes contenant le Code pays et l'Entité correspondante par ligne (0.2pt):\n",
    "- Pas de duplicats\n",
    "- Par ordre croissant de Code\n",
    "- Voir [pandas.DataFrame.to_numpy](https://pandas.pydata.org/pandas-docs/stable/reference/api/pandas.DataFrame.to_numpy.html#pandas.DataFrame.to_numpy)\n",
    "- Pour vérification, la _shape_ de l'array est de (231,2) "
   ]
  },
  {
   "cell_type": "code",
   "execution_count": null,
   "metadata": {},
   "outputs": [],
   "source": [
    "# Année des premières mesures (1 ligne)\n",
    "df.Year.min()"
   ]
  },
  {
   "cell_type": "code",
   "execution_count": null,
   "metadata": {},
   "outputs": [],
   "source": [
    "# Année des dernières mesures (1 ligne)\n",
    "df.Year.max()"
   ]
  },
  {
   "cell_type": "code",
   "execution_count": null,
   "metadata": {},
   "outputs": [],
   "source": [
    "# Visualisation de l'évolution annuelle du nombre de pays et regions avec mesures de CO2/par capita\n",
    "df.groupby('Year').Entity.count().plot(figsize=(10,5),\n",
    "                                         title = \"Évolution annuelle du nombre de pays et regions avec mesures de CO2/par capita\",\n",
    "                                         xlabel='Année', ylabel='Nombre de pays avec des mesures'\n",
    "                                         )"
   ]
  },
  {
   "cell_type": "code",
   "execution_count": null,
   "metadata": {},
   "outputs": [],
   "source": [
    "# Afficher un array de deux colonnes (1 à 4 lignes)\n",
    "# Colonne 0: les code pays\n",
    "# Colonne 1: les noms d'entités correspondantes\n",
    "columns_titles = ['Code','Entity']\n",
    "df.reindex(columns=columns_titles).drop_duplicates().sort_values(by='Code', ascending=True).to_numpy()"
   ]
  },
  {
   "cell_type": "markdown",
   "metadata": {},
   "source": [
    "----\n",
    "#### **Question 4**: Préparer la donnée $CO_2$ (2/5pt)\n",
    "\n",
    "Notez la forme de la courbe affichée dans l'exercice précédent.\n",
    "\n",
    "Ceci peut être expliqué du fait que d'après nos [informations](https://github.com/owid/co2-data) ces données proviennent de la combinaison de deux sources - les données du [Carbon Dioxide Information Analysis Center (CDIAC)](https://cdiac.ess-dive.lbl.gov/trends/emis/meth_reg.html) jusqu'en 1958, et celles du [Global Carbon Project](http://www.globalcarbonproject.org/carbonbudget) à partir de 1959. \n",
    "\n",
    "a. Aidez vous des fonctions pandas pour créer une DataFrame _dx_ à partir de _df_ telle que (0.8pt):\n",
    "- Les données de _dx_ sont limitées aux mesures produites par le Global Carbon Project uniquement\n",
    "- _dx_ ne contient pas d'entrées nulles\n",
    "- _dx_ ne contient que des entrées par pays - exclure les continents, regroupements economiques etc.\n",
    "\n",
    "b. Visualiser la donnée _dx_ sous forme de boxplot (0.2pt + 0.1pt bonus pour style)\n",
    "- Un box par année montrant les interquartiles des mesures de tous les pays pour cette années\n",
    "- Utiliser l'option `showfliers=False` pour une meilleur vue\n",
    "\n",
    "c. Créer une DataFrame _dp_ qui est un pivot de _dx_, avec (1pt):\n",
    "- Une ligne par année\n",
    "- Une variable (colonne) par Entity (pays), contenant la valeur d'emission CO2 par capita du pays\n",
    "- Retirer les colonnes de pays qui ont au moins une valeur mesure d'emission CO2 manquante (NaN ou None, ou Null)"
   ]
  },
  {
   "cell_type": "code",
   "execution_count": null,
   "metadata": {},
   "outputs": [],
   "source": [
    "# Créer la DataFrame dx (max 3 lignes)\n",
    "\n",
    "dx = df.drop(df[(df['Year'] < 1959) | (df['Code'] == 'OWID_WRL')].index).dropna() # Drop entries with no code or with year before 1959, and the specific \"World\" entry with code \"OWID_WRL\""
   ]
  },
  {
   "cell_type": "markdown",
   "metadata": {},
   "source": [
    "#### Vérification des résultats\n",
    "\n",
    "Vérifier que la DataFrame _dx_ soit bien conforme aux détails indiqués ci-dessous\n",
    "\n",
    "* **Structure de _dx_**\n",
    "\n",
    "> Int64Index: 12530 entries, 10 to 20530 \\\n",
    "Data columns (total 4 columns): \\\n",
    "\\#    Column                    Non-Null Count  Dtype  \\\n",
    "---  ------                    --------------  -----  \\\n",
    " 0   Entity                    12530 non-null  object \\\n",
    " 1   Code                      12530 non-null  object \\\n",
    " 2   Year                      12530 non-null  int64  \\\n",
    " 3   Per capita CO2 emissions  12530 non-null  float64 \\\n",
    " dtypes: float64(1), int64(1), object(2)\\\n",
    " memory usage: 489.5+ KB\n",
    "\n",
    "\n",
    "* **Statistiques sommaires de _dx_**\n",
    "\n",
    "||Year|Per capita $CO_2$ emissions|\n",
    "|:---:|:---:|:---:|\n",
    "|count|12530.000000|12530.000000|\n",
    "|mean|1989.098244|5.411322|\n",
    "|std|17.218113|12.762818|\n",
    "|min|1959.000000|0.000000|\n",
    "|25%|1974.000000|0.467862|\n",
    "|50%|1990.000000|2.194300|\n",
    "|75%|2004.000000|6.769325|\n",
    "|max|2018.000000|403.350848|\n",
    "\n"
   ]
  },
  {
   "cell_type": "code",
   "execution_count": null,
   "metadata": {},
   "outputs": [],
   "source": [
    "# Vérification de la structure\n",
    "dx.info()"
   ]
  },
  {
   "cell_type": "code",
   "execution_count": null,
   "metadata": {},
   "outputs": [],
   "source": [
    "# Vérification des statistiques sommaires\n",
    "dx.describe()"
   ]
  },
  {
   "cell_type": "markdown",
   "metadata": {},
   "source": [
    "----"
   ]
  },
  {
   "cell_type": "code",
   "execution_count": null,
   "metadata": {},
   "outputs": [],
   "source": [
    "# Visualiser l'emission de CO2/par capita dans un boxplot\n",
    "dx.boxplot(column='Per capita CO2 emissions', by='Year', showfliers=False, figsize=(30,15))"
   ]
  },
  {
   "cell_type": "code",
   "execution_count": null,
   "metadata": {},
   "outputs": [],
   "source": [
    "# Pivot pour créer la DataFrame dp (1 à 2 lignes max)\n",
    "dp = dx.pivot(index='Year', columns='Entity', values='Per capita CO2 emissions').dropna(axis=1, how='any') #Drop any column (axis=1) containing one or more NA"
   ]
  },
  {
   "cell_type": "markdown",
   "metadata": {},
   "source": [
    "----\n",
    "#### Vérification des résultats\n",
    "\n",
    "* **Structure de _dp_**\n",
    "\n",
    "> Int64Index: 60 entries, 1959 to 2018 \\\n",
    "Columns: 184 entries, Afghanistant to Zimbabwe \\\n",
    "dtypes: float64(184)\\\n",
    " memory usage: 89.7+ KB"
   ]
  },
  {
   "cell_type": "code",
   "execution_count": null,
   "metadata": {},
   "outputs": [],
   "source": [
    "# Verifier la structure de dp (1 ligne)\n",
    "dp.info()"
   ]
  },
  {
   "cell_type": "markdown",
   "metadata": {},
   "source": [
    "----\n",
    "#### Question 5: Visualisation cartographique (.5/5pt)\n",
    "\n",
    "Nous allons utiliser le paquet geopandas pour visualiser la moyenne des emissions CO2 par pays à l'aide d'une visualisation de choropleth.\n",
    "\n",
    "Nous vous aidons dans la première partie de ce code pour les shape files dans une GeoDataFrame _countries_ et pour la fonction de visualisation.\n",
    "\n",
    "Il faudra par contre créer une GeoDataFrame _geo_df_ qui join les shape files (GeoDataFrame) de _countries_ avec une DataFrame des valeurs de $CO2$ moyennes par capita max de chaque pays de _dx_ (.5pt)\n",
    "- Pour celà il faut faire une aggrégation _dx_avg_ de _dx_ et bien choisir les colonne clés de chaque DataFrame pour faire la jointure"
   ]
  },
  {
   "cell_type": "code",
   "execution_count": null,
   "metadata": {},
   "outputs": [],
   "source": [
    "# Rien à faire, lecture des shape files dans une GeoDataFrame pandas\n",
    "countries=gp.read_file('zip://../data/countries-shp/ne_10m_admin_0_countries.zip')"
   ]
  },
  {
   "cell_type": "code",
   "execution_count": null,
   "metadata": {},
   "outputs": [],
   "source": [
    "# Rien à faire, visualisation choropleth\n",
    "from mpl_toolkits.axes_grid1 import make_axes_locatable\n",
    "\n",
    "def viz_choropleth(geo_df):\n",
    "    fig, ax = plt.subplots(1, 1, figsize=(20,20))\n",
    "    div = make_axes_locatable(ax)\n",
    "    cax = div.append_axes(\"right\", size=\"5%\", pad=0.1)\n",
    "    geo_df.plot(column='Per capita CO2 emissions',ax=ax, cax=cax, legend=True)"
   ]
  },
  {
   "cell_type": "code",
   "execution_count": null,
   "metadata": {},
   "outputs": [],
   "source": [
    "# À vous de jouer, 1. créer une DataFrame avec les valeurs moyennes par pays de 1959 à mainenant (1 ligne)\n",
    "dx_avg = dx.groupby(['Entity','Code']).agg('mean')[['Per capita CO2 emissions']]"
   ]
  },
  {
   "cell_type": "code",
   "execution_count": null,
   "metadata": {},
   "outputs": [],
   "source": [
    "# À vous de jouer, 2. utiliser les fonctions reset_index et set_index pour\n",
    "# indexer la GeoDataFrame countries et la DataFrame dx_avg sur les bonnes colonnes pour la jointure\n",
    "countries=countries.reset_index().set_index('ADM0_A3_US')\n",
    "dx_avg=dx_avg.reset_index().set_index('Code')"
   ]
  },
  {
   "cell_type": "code",
   "execution_count": null,
   "metadata": {},
   "outputs": [],
   "source": [
    "# Rien à faire, création d'une GeoDataFrame geo_df en joignant les données dx_avg avec countries\n",
    "geo_def=countries.join(dx_avg['Per capita CO2 emissions'],how='inner')\n",
    "viz_choropleth(geo_def)"
   ]
  },
  {
   "cell_type": "markdown",
   "metadata": {},
   "source": [
    "----\n",
    "#### Pour vous amuser (remarque sans points)\n",
    "\n",
    "La figure ci dessus n'est pas très informative, vous pouvez avoir une visualisation plus détaillée en utilisant le code ci dessous, qui est par contre gourmant en RAM."
   ]
  },
  {
   "cell_type": "code",
   "execution_count": null,
   "metadata": {},
   "outputs": [],
   "source": [
    "#fig = px.choropleth_mapbox(dx_avg,\n",
    "#                           geojson=countries.reset_index(),\n",
    "#                           locations=dx_avg.index,\n",
    "#                           featureidkey=\"properties.ADM0_A3\",\n",
    "#                           color=\"Per capita CO2 emissions\",\n",
    "#                           center={\"lat\": 48, \"lon\": -5 },\n",
    "#                           #mapbox_style=\"open-street-map\",\n",
    "#                           mapbox_style=\"carto-positron\",\n",
    "#                           zoom=3,\n",
    "#                           width=800, height=800)\n",
    "#fig.show()"
   ]
  },
  {
   "cell_type": "markdown",
   "metadata": {},
   "source": [
    "----\n",
    "#### Question 6: Modelisation (1.5/5pt)\n",
    "\n",
    "Appliquer la méthode de [sklearn.neighbors.NearestNeighbors](https://scikit-learn.org/stable/modules/generated/sklearn.neighbors.NearestNeighbors.html) (KNN), qui sera vue le 7.12.2020, sur la DataFrame _dp_ que nous venons de créer, pour grouper avec chaque pays les deux autres pays (donc N=3) qui ont des emissions de $CO_2$ par capita comparables depuis 1959.\n",
    "\n",
    "a. Créez un model de nearest neighbors, avec l'agorithm `ball_tree` de NearestNeighbors (1pt)\n",
    "- Nommez le model _knn_co2_ \n",
    "- Il est possible d'utiliser la DataFrame _dp_ directement pour faire un fit du NearestNeighbors, mais notez qu'il faut transposer _dp_\n",
    "- Utilisez le model _knn_co2_ sur _dp_ pour retourner les nearest neighbors de chaque pays (avec des emissions CO2 comparables, et non pas géographique), sous forme d'un arrays numpy _distances_ et _indices_ tous deux de shape (184,N). Les arrays correspondant respectivements aux distances et aux indices (0 à 183) des pays groupés ensemble par KNN.\n",
    "    - Vous pouvez vérifier les pays correspondants à un index _i_ avec _dp.iloc_\n",
    "\n",
    "b. Utiliser la fonction de visualisation _plot_knn_ pour fournir une interface voilà (vue le 7.12.2020) à votre notebook, qui permet d'afficher les KNN neigbhors à partir d'un pull down menu de pays (Entity) - (0.5pt)\n",
    "- Voir les [exemples](https://blog.jupyter.org/and-voil%C3%A0-f6a2c08a4a93)\n"
   ]
  },
  {
   "cell_type": "code",
   "execution_count": null,
   "metadata": {},
   "outputs": [],
   "source": [
    "# Rien à faire, cette fonction est utilisée pour visualiser les résultats.\n",
    "def plot_knn(entity):\n",
    "    index_of_entity = dp.columns.get_loc(entity)\n",
    "    dp.iloc[:,indices[index_of_entity]].plot(figsize=(10,10))"
   ]
  },
  {
   "cell_type": "code",
   "execution_count": null,
   "metadata": {},
   "outputs": [],
   "source": [
    "# appliquer le NearestNeighbors sur dp (2 à 3 lignes max)\n",
    "from sklearn.neighbors import NearestNeighbors\n",
    "knn_co2 = NearestNeighbors(n_neighbors=3, algorithm='ball_tree').fit(dp.transpose())"
   ]
  },
  {
   "cell_type": "code",
   "execution_count": null,
   "metadata": {},
   "outputs": [],
   "source": [
    "# Calculer les N nearest neighbors pour chaque pays de DP (1 ligne)\n",
    "# créer deux arrays (184,N), distances et indices\n",
    "distances,indices= knn_co2.kneighbors(dp.transpose())"
   ]
  },
  {
   "cell_type": "code",
   "execution_count": null,
   "metadata": {},
   "outputs": [],
   "source": [
    "# Vérifier vos résultats avec quelques courbes\n",
    "plot_knn('France')"
   ]
  },
  {
   "cell_type": "code",
   "execution_count": null,
   "metadata": {},
   "outputs": [],
   "source": [
    "# Utiliser le code ci dessus pour créer une visualisation Voilà"
   ]
  },
  {
   "cell_type": "code",
   "execution_count": null,
   "metadata": {},
   "outputs": [],
   "source": [
    "import ipywidgets as widgets\n",
    "from ipywidgets import interact\n",
    "from sklearn.neighbors import NearestNeighbors\n",
    "\n",
    "\n",
    "@interact(country=dp.transpose().index, N=(1,6,1))\n",
    "def widget_knn_plot(country, N):\n",
    "    knn_co2 = NearestNeighbors(n_neighbors=N, algorithm='ball_tree').fit(dp.transpose())\n",
    "    distances,indices= knn_co2.kneighbors(dp.transpose())\n",
    "    \n",
    "    index_of_entity = dp.columns.get_loc(country)\n",
    "    dp.iloc[:,indices[index_of_entity]].plot(figsize=(10,10))"
   ]
  }
 ],
 "metadata": {
  "kernelspec": {
   "display_name": "Python 3",
   "language": "python",
   "name": "python3"
  },
  "language_info": {
   "codemirror_mode": {
    "name": "ipython",
    "version": 3
   },
   "file_extension": ".py",
   "mimetype": "text/x-python",
   "name": "python",
   "nbconvert_exporter": "python",
   "pygments_lexer": "ipython3",
   "version": "3.7.6"
  }
 },
 "nbformat": 4,
 "nbformat_minor": 4
}
