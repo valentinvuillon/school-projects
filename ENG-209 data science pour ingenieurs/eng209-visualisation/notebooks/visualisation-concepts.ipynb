{
 "cells": [
  {
   "cell_type": "markdown",
   "metadata": {},
   "source": [
    "## Sommaire\n",
    "\n",
    "1. Préparation de l'environnement\n",
    "\n",
    "2. Étude des données Covid19 reportées en Suisse\n",
    "\n",
    "    2.1 Télécharger\n",
    "    \n",
    "    2.2 Comprendre la structure de la donnée\n",
    "    \n",
    "    2.3 Préparation de la donnée Covid19 avec Pandas\n",
    "    \n",
    "    2.4 Visualisation simple de la donnée\n",
    "    \n",
    "    2.5 Corrélations\n",
    "    \n",
    "    2.6 Aggrégations des nuages de points\n",
    "\n",
    "3. Exercices\n",
    "\n",
    "4. Annexe: méthodes avancées\n",
    "\n",
    "## 1. Préparation de l'environnement\n",
    "\n",
    "Nous allons utiliser principalement les fonctions de pandas avec un backend de visualisation matplotlib.\n",
    "\n",
    "Les paquets Python suivants doivent être installés:\n",
    "- matplotlib\n",
    "- numpy\n",
    "- pandas\n",
    "- seaborn"
   ]
  },
  {
   "cell_type": "code",
   "execution_count": null,
   "metadata": {},
   "outputs": [],
   "source": [
    "import matplotlib.pyplot as plt\n",
    "import numpy as np\n",
    "import pandas as pd\n",
    "import seaborn as sns"
   ]
  },
  {
   "cell_type": "code",
   "execution_count": null,
   "metadata": {},
   "outputs": [],
   "source": [
    "%matplotlib inline\n",
    "pd.set_option(\"display.precision\",2)"
   ]
  },
  {
   "cell_type": "markdown",
   "metadata": {},
   "source": [
    "------\n",
    "## 2. Étude des données Covid19 de Suisse\n",
    "\n",
    "#### 2.1 Télécharger\n",
    "\n",
    "Téléchargement de la donnée de Covid19 en Suisse.\n",
    "\n",
    "* Source: [openZH/covid_19](https://github.com/openZH/covid_19/)\n",
    "* Format de lecture: CSV\n",
    "* Méthode de lecture: [pandas.read_csv](https://pandas.pydata.org/pandas-docs/stable/reference/api/pandas.read_csv.html)\n",
    "     - `index_col`: Indexer la date\n",
    "     - `usecols`: Selectionne un sous ensemble des colonnes de la table\n",
    "     - `sort_index`: Arrange chronologiquement\n",
    "* Renome colonne _abbreviation_canton_and_fl_ en _canton_\n"
   ]
  },
  {
   "cell_type": "code",
   "execution_count": null,
   "metadata": {},
   "outputs": [],
   "source": [
    "df = pd.read_csv(\n",
    "    'https://raw.githubusercontent.com/openZH/covid_19/master/COVID19_Fallzahlen_CH_total_v2.csv',\n",
    "    usecols=['abbreviation_canton_and_fl',\n",
    "              'date',      \n",
    "              'ncumul_tested',\n",
    "              'ncumul_conf',\n",
    "              'new_hosp',\n",
    "              'current_hosp',\n",
    "              'current_icu',\n",
    "              'current_vent',\n",
    "              'ncumul_released',\n",
    "              'ncumul_deceased',\n",
    "              'current_isolated',\n",
    "              'current_quarantined'\n",
    "             ],\n",
    "    parse_dates=['date'],\n",
    "    index_col=['date']\n",
    ").sort_index(ascending=True)\n",
    "df.rename(columns={\"abbreviation_canton_and_fl\":\"canton\"},inplace=True)"
   ]
  },
  {
   "cell_type": "markdown",
   "metadata": {},
   "source": [
    "* Ajoute une colonne _ncumul_hosp_ indiquant la somme cummulée (`.cumsum()`) des nouvelles hospitalisations _new_hosp_, par canton (`groupby(['canton']`)"
   ]
  },
  {
   "cell_type": "code",
   "execution_count": null,
   "metadata": {},
   "outputs": [],
   "source": [
    "df['ncumul_hosp']=df.groupby('canton').new_hosp.cumsum()"
   ]
  },
  {
   "cell_type": "markdown",
   "metadata": {},
   "source": [
    "------\n",
    "#### 2.2 Comprendre la structure de la donnée\n",
    "\n",
    "Statistiques sommaires de la donnée Covid19 Suisse.\n",
    "\n",
    "* Des colonnes sont plus complètes que d'autres - lesquelles?"
   ]
  },
  {
   "cell_type": "code",
   "execution_count": null,
   "metadata": {},
   "outputs": [],
   "source": [
    "df.info()"
   ]
  },
  {
   "cell_type": "markdown",
   "metadata": {},
   "source": [
    "-----\n",
    "Aperçu de la donnée Covid19\n",
    "\n",
    "* Échantillon des 5 entrées les plus anciennes et les 5 plus récentes - notez la structure de la table"
   ]
  },
  {
   "cell_type": "code",
   "execution_count": null,
   "metadata": {},
   "outputs": [],
   "source": [
    "df.head(5)"
   ]
  },
  {
   "cell_type": "code",
   "execution_count": null,
   "metadata": {},
   "outputs": [],
   "source": [
    "df.tail(5)"
   ]
  },
  {
   "cell_type": "markdown",
   "metadata": {},
   "source": [
    "* Dans quels cantons et a quels moments y-a-t-il eu le plus d'hospitalisations dues au Covid19 (top 10)?"
   ]
  },
  {
   "cell_type": "code",
   "execution_count": null,
   "metadata": {},
   "outputs": [],
   "source": [
    "df.nlargest(n=10,columns='current_hosp')[['canton','current_hosp']]"
   ]
  },
  {
   "cell_type": "markdown",
   "metadata": {},
   "source": [
    "-----\n",
    "#### 2.3 Préparation de la donnée\n",
    "\n",
    "Nous voulons visualiser et comparer la série temporelle de chaque mesure sur tous les cantons. Pour ce faire nous effectuons d'abord un _pivot_ de la DataFrame, afin d'arranger les cantons de la colonne `canton` en colonnes séparées.\n",
    "\n",
    "* Méthode: [pandas.DataFrame.pivot](https://pandas.pydata.org/pandas-docs/stable/reference/api/pandas.DataFrame.sort_index.html)\n",
    "    - `columns`: colonne du pivot - chaque nouvelle valeur de cette colonne de la table d'origine résulte en une nouvelle colonne dans la table transformée\n",
    "    - `values`: liste de colonnes dans la table d'origine contenant les mesures à traiter.\n",
    "    \n",
    "Il existe bien sûre d'autres façons de préparer les données pour cette première visualisation - à vous d'explorer. Pour plus de détails, voir les méthodes de [remodelage des DataFrames pandas](https://pandas.pydata.org/pandas-docs/stable/user_guide/reshaping.html)"
   ]
  },
  {
   "cell_type": "code",
   "execution_count": null,
   "metadata": {},
   "outputs": [],
   "source": [
    "dfp=pd.pivot(df,columns='canton',values=['current_hosp','ncumul_deceased'])"
   ]
  },
  {
   "cell_type": "markdown",
   "metadata": {},
   "source": [
    "-----\n",
    "Afficher les informations au sujet de cette nouvelle DataFrame\n",
    "\n",
    "* Notes:\n",
    "    - L'index des lignes reste la colonne `date`.\n",
    "    - L'index des colonnes a deux niveaux _(mesure, canton)_ - par exemple: `(current_hosp, AG)`"
   ]
  },
  {
   "cell_type": "code",
   "execution_count": null,
   "metadata": {},
   "outputs": [],
   "source": [
    "dfp.info()"
   ]
  },
  {
   "cell_type": "code",
   "execution_count": null,
   "metadata": {},
   "outputs": [],
   "source": [
    "dfp.head(5)"
   ]
  },
  {
   "cell_type": "markdown",
   "metadata": {},
   "source": [
    "-----\n",
    "#### 2.4 Visualisation de la donnée\n",
    "\n",
    "Une visualisation nous donne une information plus compacte et plus riche que les aperçus sur des échantillons de données vus précédemments.\n",
    "\n",
    "Il est possible d'invoquer les méthodes de visualisation directement sur les DataFrames pandas, sans utiliser les fonctions de matplotlib.\n",
    "Dans ce cas pandas utilise par défaut l'engin de visualisation matplotlib, qu'il est possible de remplacer\n",
    "à l'aide de l'option [plotting.backend](https://pandas.pydata.org/pandas-docs/stable/reference/api/pandas.DataFrame.plot.html).\n",
    "\n",
    "* Méthode: [pandas.DataFrame.plot()](https://pandas.pydata.org/pandas-docs/stable/reference/api/pandas.DataFrame.plot.html).current_hosp.plot(figsize=(10,10))\n",
    "    - `current_hosp`: sélectionne toutes les colonnes `current_hosp` (niveau 0 de l'index des colonnes)\n",
    "    - `figsize=(10,10)`: redimensionne la figure\n",
    "\n",
    "\n",
    "* Notes:\n",
    "    - La notation `plot(x='colonne1',y='colonne2',...)` permet de spécifier les colonnes de l'axe _x_ et/ou _y_\n",
    "    - Par défaut l'index de ligne est utilisé pour _x_ et l'index des colonnes pour _y_ (une courbe par colonne).\n"
   ]
  },
  {
   "cell_type": "code",
   "execution_count": null,
   "metadata": {},
   "outputs": [],
   "source": [
    "dfp.current_hosp.plot(figsize=(10,10))"
   ]
  },
  {
   "cell_type": "markdown",
   "metadata": {},
   "source": [
    "-----\n",
    "Les courbes précédentes présentent deux vagues de l'épidémie Covid19.\n",
    "\n",
    "Nous nous intéressons à la deuxième vague. Nous lissons la donnée avec une moyenne hébdomadaire afin d'éliminer les fluctuations périodiques liées au facteur humain.\n",
    "\n",
    "* Méthode\n",
    "    - [.loc['2020-09-01':]](https://pandas.pydata.org/pandas-docs/stable/user_guide/indexing.html#selection-by-label): limite la période à partir du 1 septembre 2020.\n",
    "        - Une autre façon serait d'utiliser [query('date>\"2020-08-31\"')](https://pandas.pydata.org/pandas-docs/stable/reference/api/pandas.DataFrame.query.html#pandas.DataFrame.query).\n",
    "    - `resample('W').mean()`: mesures hebdomadaires moyennes.\n"
   ]
  },
  {
   "cell_type": "code",
   "execution_count": null,
   "metadata": {},
   "outputs": [],
   "source": [
    "dfp2vm=dfp.loc['2020-09-01':].resample('W').mean()\n",
    "dfp2vm.current_hosp.plot(figsize=(10,10))"
   ]
  },
  {
   "cell_type": "markdown",
   "metadata": {},
   "source": [
    "-----\n",
    "#### 2.5 Correlations\n",
    "\n",
    "_Quel est le taux de correlation de l'évolution du covid19 entre les cantons?_\n",
    "\n",
    "\n",
    "Nous pouvons estimer la présence de correlations en comparant visuellement les mesures d'un canton avec les mesures d'un autre canton prises les mêmes semaines. Nous utilisons des figures de type _nuages de points_ pour indiquer le degré de corrélation entre deux ou plusieurs variables."
   ]
  },
  {
   "cell_type": "code",
   "execution_count": null,
   "metadata": {},
   "outputs": [],
   "source": [
    "import numpy.polynomial.polynomial as poly\n",
    "L=poly.polyfit(dfp2vm.current_hosp.ZH,dfp2vm.current_hosp.BE,1)\n",
    "\n",
    "fig,axe=plt.subplots()\n",
    "dfp2vm.current_hosp.plot(x='ZH',y='BE',ax=axe,figsize=(10,10),style='b^')\n",
    "\n",
    "x=np.array([0,350])\n",
    "y=L[1]*x+L[0]\n",
    "\n",
    "axe.plot(x,y,'k-')\n",
    "\n"
   ]
  },
  {
   "cell_type": "markdown",
   "metadata": {},
   "source": [
    "Pandas permet de créer une matrice de comparaisons paire à paire des ensemble de données\n",
    "\n",
    "* Méthode: [pandas.plotting.scatter_matrice]()\n"
   ]
  },
  {
   "cell_type": "code",
   "execution_count": null,
   "metadata": {},
   "outputs": [],
   "source": [
    "pd.plotting.scatter_matrix(dfp2vm.current_hosp[['ZH','BE','VD','VS','NE','GE']],figsize=(10,10))"
   ]
  },
  {
   "cell_type": "markdown",
   "metadata": {},
   "source": [
    "L'interface DataFrames de pandas offre aussi un ensemble de fonctions qui permettent de calculer les correlations.\n",
    "\n",
    "* Méthode: [pandas.DataFrame.corr](https://pandas.pydata.org/pandas-docs/stable/reference/api/pandas.DataFrame.corr.html)\n",
    "    - `corr(method='pearson')`: corrélation du nombre d'hospitalisations hebdomadaire moyen par paire de cantons.\n",
    "\n",
    "La méthode de _pearson_ est utilisée par défaut - autres choix: _spearman_, _kendall_, ou votre méthode (fonction python)"
   ]
  },
  {
   "cell_type": "code",
   "execution_count": null,
   "metadata": {},
   "outputs": [],
   "source": [
    "correlations=dfp2vm.current_hosp.corr(method='pearson')\n",
    "correlations"
   ]
  },
  {
   "cell_type": "markdown",
   "metadata": {},
   "source": [
    "-----\n",
    "Cette corrélation est visuellement plus parlante avec une _carte thermique_.\n",
    "\n",
    "Avec matplotlib, un peu de programmation est requise pour nommer les axes et styliser la figure."
   ]
  },
  {
   "cell_type": "code",
   "execution_count": null,
   "metadata": {},
   "outputs": [],
   "source": [
    "fig,ax=plt.subplots(figsize=(10,10))\n",
    "colonnes=correlations.columns.to_list()\n",
    "plt.xticks(range(len(colonnes)),colonnes,rotation=90)\n",
    "plt.yticks(range(len(colonnes)),colonnes)\n",
    "plt.imshow(correlations,cmap='hot')"
   ]
  },
  {
   "cell_type": "markdown",
   "metadata": {},
   "source": [
    "Le paquet seaborn offre des racourcis matplotlib pour permettre de créer ce type de figures plus rapidement."
   ]
  },
  {
   "cell_type": "code",
   "execution_count": null,
   "metadata": {},
   "outputs": [],
   "source": [
    "fig,axe=plt.subplots(figsize=(10,10))\n",
    "sns.heatmap(correlations,vmin=0.25)"
   ]
  },
  {
   "cell_type": "markdown",
   "metadata": {},
   "source": [
    "-----\n",
    "#### 2.6 Aggrégations de nuages de points\n",
    "\n",
    "L'affichage [pandas.DataFrame.plot.hexbin](https://pandas.pydata.org/pandas-docs/stable/reference/api/pandas.DataFrame.plot.hexbin.html) permet d'exprimer sous forme de carte thermique la densité des nuages de points en les partitionnant dans des zones d'une grille hexagonales.\n",
    "\n",
    "Ceci est illustré avec le nombre d'hospitalisations versus le taux d'occupation dans les unités de soins intensifs de chaque canton.\n",
    "\n",
    "Méthode:\n",
    "\n",
    "* `reset_index().set_index(['date','canton'])`: retire l'index existant, et index les colonnes _date_ et _canton_, ce qui revient à dire: _appliquer l'opération suivante pour chaque date et chaque canton_.\n",
    "* `plot(x='current_hosp',y='current_icu')`: pour chaque valeur de l'index, afficher un point correspondant au nombre d'hospitalisations en cours  (axe horizontal) et nombre de patients en ICU."
   ]
  },
  {
   "cell_type": "code",
   "execution_count": null,
   "metadata": {},
   "outputs": [],
   "source": [
    "df.reset_index().set_index('date','canton').plot(x='current_hosp',y='current_icu',figsize=(10,10),style='b^')"
   ]
  },
  {
   "cell_type": "code",
   "execution_count": null,
   "metadata": {},
   "outputs": [],
   "source": [
    "df.reset_index().set_index('date','canton').plot.hexbin(x='current_hosp',y='current_icu',figsize=(10,10),gridsize=10,vmax=500)"
   ]
  },
  {
   "cell_type": "markdown",
   "metadata": {},
   "source": [
    "----\n",
    "## Exercices\n",
    "\n",
    "#### 4.1 Apprenez vous à décomposer les DataFrames pandas\n",
    "\n",
    "Devinez pour chacune des commandes suivantes quels ensembles de données sont affichés. Pouvez vous compléter la table? Les réponse aux trois premières questions sont déjà indiquées.\n",
    "Pour cet exercice vous devez vous assurer d'avoir bien crée la DataFrame _dfp_ comme indiqué au cours de cette séance.\n",
    "\n",
    "|commande|current_hosp|ncumul_deceased|canton BE|canton ZH|Et autres cantons|Erreur|\n",
    "|-|-:|-:|-:|-:|-:|-:|\n",
    "|dfp.plot(legend=False)|X|X|X|X|X||\n",
    "|dfp['current_hosp'].plot()|X||X|X|X||\n",
    "|dfp['current_hosp'].ZH.plot()|X|||X|||\n",
    "|dfp['current_hosp'][['ZH','BE']].plot()||||||\n",
    "|dfp[['current_hosp']].plot()||||||\n",
    "|dfp[['current_hosp','ncumul_deceased']].plot()||||||\n",
    "|dfp[['current_hosp','ncumul_deceased']][['ZH','BE']].plot()||||||\n",
    "|dfp[[('ncumul_deceased','ZH'),('current_hosp','VD')]].plot()||||||\n",
    "|dfp.current_hosp.ZH.plot()||||||\n",
    "|dfp.current_hosp[['ZH','BE']].plot()||||||\n",
    "|dfp.current_hosp.plot(y='ZH')||||||\n",
    "|dfp.current_hosp.plot(y=['ZH','BE'])||||||\n",
    "|dfp.plot(y='current_hosp')||||||\n",
    "|dfp.plot(y=['current_hosp','ncumul_deceased'],legend=False)||||||\n",
    "|dfp.plot(y=('current_hosp','AG'))||||||\n",
    "|dfp.plot(y=[('current_hosp','ZH'),('ncumul_deceased','ZH')])||||||\n",
    "\n",
    "-----\n",
    "\n",
    "\n",
    "Utilisez l'espace ci-dessous pour vérifier vos réponses.\n",
    "\n",
    "Notes:\n",
    "* la fonction `plt.subplots(2,3)` prépare une grille de $2x3$ et retourne une matrice d'axes. Pour modifier la figure de la ligne $i$, colonne $j$ de la grille il faut passer l'axe[$i,j$] au paramètre `ax` de la fonction `panda.DataFrames.plot`.\n",
    "* Pour plus d'infos, voir [le tutoriel Pandas d'indexing](https://pandas.pydata.org/pandas-docs/stable/user_guide/indexing.html).\n"
   ]
  },
  {
   "cell_type": "code",
   "execution_count": null,
   "metadata": {},
   "outputs": [],
   "source": [
    "fig,axes=plt.subplots(2,3,figsize=(20,10))\n",
    "\n",
    "dfp.plot(ax=axes[0,0],legend=False)\n",
    "dfp['current_hosp'].plot(ax=axes[0,1])\n",
    "\n",
    "plt.show()"
   ]
  },
  {
   "cell_type": "markdown",
   "metadata": {},
   "source": [
    "#### 4.2 Apprendre le principe du pivot\n",
    "\n",
    "Faites un pivot de la DataFrame _df_, de manière à pouvoir visualiser les mesures _current_icu_ par canton."
   ]
  },
  {
   "cell_type": "markdown",
   "metadata": {},
   "source": [
    "-----\n",
    "\n",
    "\n",
    "-----\n",
    "## 4. Annexe: méthodes avancées\n",
    "\n",
    "\n",
    "Pour les courageux - nous illustrons des méthodes plus avancées à l'aide d'un exemple dans lequel nous estimons l'incidence des densités de population les hospitalisations Covid19.\n",
    "\n",
    "Attention, gardez à l'esprit que cet exemple est uniquement dans le but de s'exercer avec les méthodes de visualisation Python. Nous ne prétendons pas en faire ici une étude scientifique réelle!\n",
    "\n",
    "#### 3.1 Télécharger les données de superficie et statistiques de population par canton\n",
    "\n",
    "Source: office fédéral de la statistique et wikipédia\n",
    "\n",
    "Format: TSV (tab separated)\n",
    "    \n",
    "Méthode: [pandas.read_table](https://pandas.pydata.org/pandas-docs/stable/reference/api/pandas.read_table.html), ou pandas.read_csv avec l'option `sep='\\t'`.\n",
    "* Nous utilisons le code d'abréviation du canton comme index.\n"
   ]
  },
  {
   "cell_type": "code",
   "execution_count": null,
   "metadata": {},
   "outputs": [],
   "source": [
    "cf = pd.read_table(\"../data/cantons.csv\",index_col='Canton')"
   ]
  },
  {
   "cell_type": "markdown",
   "metadata": {},
   "source": [
    "-----\n",
    "#### 3.2 Comprendre la structure de la donnée de superficie et statistiques de population\n",
    "\n",
    "* La table est indexée par canton.\n",
    "* Les colonnes 3 à 21 indiquent la répartition des types de surface (Ha) du territoire cantonal.\n",
    "* Les colonnes 22 à 24 sont réspectivement le nombre de résidents, nombre de municipalités, et langue majoritaire du canton."
   ]
  },
  {
   "cell_type": "code",
   "execution_count": null,
   "metadata": {},
   "outputs": [],
   "source": [
    "cf.info()"
   ]
  },
  {
   "cell_type": "code",
   "execution_count": null,
   "metadata": {},
   "outputs": [],
   "source": [
    "cf.head(5)"
   ]
  },
  {
   "cell_type": "markdown",
   "metadata": {},
   "source": [
    "-----\n",
    "#### 3.3 Calcul de densité de population\n",
    "\n",
    "Quelle est la densité d'habitants par surface **habitable** (colonne _Batiment_)?\n",
    "\n",
    "Méthode:\n",
    "* Nous ajoutons une nouvelle colonne à la DataFrame qui est le ratio des colonnes $\\frac{Population}{Batiment}$"
   ]
  },
  {
   "cell_type": "code",
   "execution_count": null,
   "metadata": {},
   "outputs": [],
   "source": [
    "cf['Density']=cf.Population/cf.Batiment\n",
    "cf.head(5)"
   ]
  },
  {
   "cell_type": "markdown",
   "metadata": {},
   "source": [
    "Barplot de densité de population par canton par ordre décroissant, et histogramme des densités."
   ]
  },
  {
   "cell_type": "code",
   "execution_count": null,
   "metadata": {},
   "outputs": [],
   "source": [
    "cf.Density.sort_values(ascending=False).plot.bar()"
   ]
  },
  {
   "cell_type": "markdown",
   "metadata": {},
   "source": [
    "cf.Density.plot.hist()"
   ]
  },
  {
   "cell_type": "markdown",
   "metadata": {},
   "source": [
    "-----\n",
    "#### 3.4 Préparation de la donnée Covid19\n",
    "\n",
    "Nous nous intéressons uniquement au nombre d'hospitalisations pendant le mois d'Octobre 2020. Cette période corréspond à la deuxième vague Covid19, avant que de nouvelles mesures de distances sociales ne soient imposées.\n",
    "\n",
    "Nous faisons l'hypothèse que le nombre d'hospitalisations dues au Covid19 suit une loi exponentielle $h(t)=e^{\\alpha t}$, et nous utlisons la propriété:\n",
    "\n",
    "$\\large \\frac{\\delta e^{\\alpha t}}{\\delta t}=\\alpha e^{\\alpha t}$\n",
    "\n",
    "pour estimer de façon très simple un facteur de croissance par canton:\n",
    "\n",
    "$\\large \\alpha_{canton}(t) \\approx \\frac{\\frac{\\Delta h(t)}{\\Delta t}}{h(t)}$\n",
    "\n",
    "\n",
    "Méthode - étape 1: mise en forme des donnée d'hospitalisations\n",
    "* `current_hosp.dropna(axis=1,thresh=200)`: considère seulement le nombre d'hosptalisations, et ignore tous les cantons (axis=1) pour lesquels nous avons moins de 200 mesures.\n",
    "* `ewm(halflife='2D',times=dfp.index).mean()`: lissage exponentiel $y_t=\\lambda x_t+(1-\\lambda) y_{t-1}$, avec $\\lambda$ calculé en terme de demie-vie au cours de laquelle une observation $x_t$ décroit de la moitié de sa valeur sur l'axe des temps spécifié par `times=dfp.index` (l'index est la colonne _date_ de la table _dfp_).\n",
    "* `loc['2020-10-10':'2020-11-05']`: fenêtre de temps de la deuxième vague"
   ]
  },
  {
   "cell_type": "code",
   "execution_count": null,
   "metadata": {},
   "outputs": [],
   "source": [
    "dfp_avg=dfp.current_hosp.dropna(axis=1,thresh=200).ewm(halflife='1D',times=dfp.index).mean().loc['2020-10-10':'2020-11-05']"
   ]
  },
  {
   "cell_type": "markdown",
   "metadata": {},
   "source": [
    "Nous affichons _dfp\\_avg_ sur une échelle logarithmique pour vérifier que nombre d'hospitalisations suit une croissance exponentielle"
   ]
  },
  {
   "cell_type": "code",
   "execution_count": null,
   "metadata": {},
   "outputs": [],
   "source": [
    "dfp_avg.plot(logy=True)"
   ]
  },
  {
   "cell_type": "markdown",
   "metadata": {},
   "source": [
    "Méthode - étape 2: Calcul de l'approximation $\\Delta h(t)/\\Delta t/h(t)$, avec $\\Delta t=1 $jour.\n",
    "* `apply(estimate_alpha)`: applique la fonction sur l'ensemble de données de chaque canton."
   ]
  },
  {
   "cell_type": "code",
   "execution_count": null,
   "metadata": {},
   "outputs": [],
   "source": [
    "def estimate_alpha(x):\n",
    "    return np.diff(x)/x[1:]\n",
    "\n",
    "t_alpha=dfp_avg.apply(estimate_alpha)"
   ]
  },
  {
   "cell_type": "markdown",
   "metadata": {},
   "source": [
    "Nous calculons les _boites à moustaches_ pour visualiser les variations du taux de croissance $\\alpha_{canton}(t)$ de Covid19 estimé pour chaque canton.\n",
    "Nous utilisons ensuite la valeur médiane de $\\alpha_{canton}(t)$ sur l'interval de temps considéré pour en déduire $\\alpha_{canton}$ si les variations sont raisonnables."
   ]
  },
  {
   "cell_type": "code",
   "execution_count": null,
   "metadata": {},
   "outputs": [],
   "source": [
    "t_alpha.boxplot()"
   ]
  },
  {
   "cell_type": "code",
   "execution_count": null,
   "metadata": {},
   "outputs": [],
   "source": [
    "alpha=t_alpha.median().to_frame('alpha')\n",
    "alpha.head(5)"
   ]
  },
  {
   "cell_type": "markdown",
   "metadata": {},
   "source": [
    "-----\n",
    "#### 3.5 Jointure de la donnée Covid19 et de densité de population\n",
    "\n",
    "Nous pouvons maintenant comparer les $\\alpha_{canton}$ avec les données de densité d'habitants par zones habitables. Il suffit de faire une _jointure_ pour associer les $\\alpha_{canton}$ avec les densités correspondantes.\n",
    "\n",
    "Notez que la préparation de la donnée constitue 80% à 90% de l'effort de data science. Afin de garder cet exemple simple, nous avons omis des étapes importantes de cette préparation, dont la normalisation des données. Il ne faut donc pas tirer des conclusions hatives à partir de ces résultats.\n",
    "\n",
    "Méthode 1: [pandas.DataFrame.join](https://pandas.pydata.org/pandas-docs/stable/reference/api/pandas.DataFrame.join.html)\n",
    "* `on='canton'`: utilise la colonne _canton_ pour la clé de jointure des données de Covid19\n",
    "* `how='inner'`\n",
    "\n",
    "Voir aussi [pandas.merge](https://pandas.pydata.org/pandas-docs/stable/user_guide/merging.html)"
   ]
  },
  {
   "cell_type": "code",
   "execution_count": null,
   "metadata": {},
   "outputs": [],
   "source": [
    "pdf=alpha.join(cf.Density,on='canton',how='inner')"
   ]
  },
  {
   "cell_type": "code",
   "execution_count": null,
   "metadata": {},
   "outputs": [],
   "source": [
    "pdf.plot(x='alpha',y='Density',style='^')"
   ]
  },
  {
   "cell_type": "code",
   "execution_count": null,
   "metadata": {},
   "outputs": [],
   "source": []
  }
 ],
 "metadata": {
  "kernelspec": {
   "display_name": "Python 3",
   "language": "python",
   "name": "python3"
  },
  "language_info": {
   "codemirror_mode": {
    "name": "ipython",
    "version": 3
   },
   "file_extension": ".py",
   "mimetype": "text/x-python",
   "name": "python",
   "nbconvert_exporter": "python",
   "pygments_lexer": "ipython3",
   "version": "3.7.6"
  }
 },
 "nbformat": 4,
 "nbformat_minor": 4
}
