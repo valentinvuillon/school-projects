{
 "cells": [
  {
   "cell_type": "code",
   "execution_count": 1,
   "metadata": {},
   "outputs": [],
   "source": [
    "import pandas as pd"
   ]
  },
  {
   "cell_type": "markdown",
   "metadata": {},
   "source": [
    "### Créer un DataFrame à partir d’un dictionnaire de listes"
   ]
  },
  {
   "cell_type": "code",
   "execution_count": 2,
   "metadata": {},
   "outputs": [],
   "source": [
    "# Créons un dictionnaire de listes\n",
    "data = {'Prénom':['Olivier', 'Christine', 'Anne', 'Eric'],'Age':[65,31,23,48], 'Mois de naissance': ['Juin','Décembre','Septembre','Décembre']}\n",
    "\n",
    "# Et un DataFrame en essayant d'imposer que les éléments soient de type int32\n",
    "df   = pd.DataFrame(data, dtype='int32')"
   ]
  },
  {
   "cell_type": "code",
   "execution_count": 3,
   "metadata": {},
   "outputs": [
    {
     "data": {
      "text/html": [
       "<div>\n",
       "<style scoped>\n",
       "    .dataframe tbody tr th:only-of-type {\n",
       "        vertical-align: middle;\n",
       "    }\n",
       "\n",
       "    .dataframe tbody tr th {\n",
       "        vertical-align: top;\n",
       "    }\n",
       "\n",
       "    .dataframe thead th {\n",
       "        text-align: right;\n",
       "    }\n",
       "</style>\n",
       "<table border=\"1\" class=\"dataframe\">\n",
       "  <thead>\n",
       "    <tr style=\"text-align: right;\">\n",
       "      <th></th>\n",
       "      <th>Prénom</th>\n",
       "      <th>Age</th>\n",
       "      <th>Mois de naissance</th>\n",
       "    </tr>\n",
       "  </thead>\n",
       "  <tbody>\n",
       "    <tr>\n",
       "      <th>0</th>\n",
       "      <td>Olivier</td>\n",
       "      <td>65</td>\n",
       "      <td>Juin</td>\n",
       "    </tr>\n",
       "    <tr>\n",
       "      <th>1</th>\n",
       "      <td>Christine</td>\n",
       "      <td>31</td>\n",
       "      <td>Décembre</td>\n",
       "    </tr>\n",
       "    <tr>\n",
       "      <th>2</th>\n",
       "      <td>Anne</td>\n",
       "      <td>23</td>\n",
       "      <td>Septembre</td>\n",
       "    </tr>\n",
       "    <tr>\n",
       "      <th>3</th>\n",
       "      <td>Eric</td>\n",
       "      <td>48</td>\n",
       "      <td>Décembre</td>\n",
       "    </tr>\n",
       "  </tbody>\n",
       "</table>\n",
       "</div>"
      ],
      "text/plain": [
       "      Prénom  Age Mois de naissance\n",
       "0    Olivier   65              Juin\n",
       "1  Christine   31          Décembre\n",
       "2       Anne   23         Septembre\n",
       "3       Eric   48          Décembre"
      ]
     },
     "execution_count": 3,
     "metadata": {},
     "output_type": "execute_result"
    }
   ],
   "source": [
    "# Affichons le début de ce DataFrame (5 premières lignes; * configurable *)\n",
    "df.head()"
   ]
  },
  {
   "cell_type": "code",
   "execution_count": 4,
   "metadata": {},
   "outputs": [
    {
     "name": "stdout",
     "output_type": "stream",
     "text": [
      "<class 'pandas.core.frame.DataFrame'>\n",
      "RangeIndex: 4 entries, 0 to 3\n",
      "Data columns (total 3 columns):\n",
      " #   Column             Non-Null Count  Dtype \n",
      "---  ------             --------------  ----- \n",
      " 0   Prénom             4 non-null      object\n",
      " 1   Age                4 non-null      int32 \n",
      " 2   Mois de naissance  4 non-null      object\n",
      "dtypes: int32(1), object(2)\n",
      "memory usage: 208.0+ bytes\n"
     ]
    }
   ],
   "source": [
    "df.info()"
   ]
  },
  {
   "cell_type": "code",
   "execution_count": 5,
   "metadata": {},
   "outputs": [
    {
     "data": {
      "text/plain": [
       "count     4.000000\n",
       "mean     41.750000\n",
       "std      18.679311\n",
       "min      23.000000\n",
       "25%      29.000000\n",
       "50%      39.500000\n",
       "75%      52.250000\n",
       "max      65.000000\n",
       "Name: Age, dtype: float64"
      ]
     },
     "execution_count": 5,
     "metadata": {},
     "output_type": "execute_result"
    }
   ],
   "source": [
    "df['Age'].describe()"
   ]
  },
  {
   "cell_type": "code",
   "execution_count": 6,
   "metadata": {},
   "outputs": [
    {
     "data": {
      "text/plain": [
       "'Age'"
      ]
     },
     "execution_count": 6,
     "metadata": {},
     "output_type": "execute_result"
    }
   ],
   "source": [
    "df.columns[1]"
   ]
  },
  {
   "cell_type": "code",
   "execution_count": 7,
   "metadata": {},
   "outputs": [],
   "source": [
    "df = df.set_index('Prénom')"
   ]
  },
  {
   "cell_type": "code",
   "execution_count": 8,
   "metadata": {},
   "outputs": [
    {
     "data": {
      "text/html": [
       "<div>\n",
       "<style scoped>\n",
       "    .dataframe tbody tr th:only-of-type {\n",
       "        vertical-align: middle;\n",
       "    }\n",
       "\n",
       "    .dataframe tbody tr th {\n",
       "        vertical-align: top;\n",
       "    }\n",
       "\n",
       "    .dataframe thead th {\n",
       "        text-align: right;\n",
       "    }\n",
       "</style>\n",
       "<table border=\"1\" class=\"dataframe\">\n",
       "  <thead>\n",
       "    <tr style=\"text-align: right;\">\n",
       "      <th></th>\n",
       "      <th>Age</th>\n",
       "      <th>Mois de naissance</th>\n",
       "    </tr>\n",
       "    <tr>\n",
       "      <th>Prénom</th>\n",
       "      <th></th>\n",
       "      <th></th>\n",
       "    </tr>\n",
       "  </thead>\n",
       "  <tbody>\n",
       "    <tr>\n",
       "      <th>Olivier</th>\n",
       "      <td>65</td>\n",
       "      <td>Juin</td>\n",
       "    </tr>\n",
       "  </tbody>\n",
       "</table>\n",
       "</div>"
      ],
      "text/plain": [
       "         Age Mois de naissance\n",
       "Prénom                        \n",
       "Olivier   65              Juin"
      ]
     },
     "execution_count": 8,
     "metadata": {},
     "output_type": "execute_result"
    }
   ],
   "source": [
    "df.loc[['Olivier']]"
   ]
  },
  {
   "cell_type": "code",
   "execution_count": 9,
   "metadata": {},
   "outputs": [
    {
     "data": {
      "text/plain": [
       "'Juin'"
      ]
     },
     "execution_count": 9,
     "metadata": {},
     "output_type": "execute_result"
    }
   ],
   "source": [
    "df.loc['Olivier']['Mois de naissance']"
   ]
  },
  {
   "cell_type": "code",
   "execution_count": 10,
   "metadata": {},
   "outputs": [
    {
     "data": {
      "text/plain": [
       "Prénom\n",
       "Olivier    65\n",
       "Eric       48\n",
       "Name: Age, dtype: int32"
      ]
     },
     "execution_count": 10,
     "metadata": {},
     "output_type": "execute_result"
    }
   ],
   "source": [
    "df.loc[['Olivier', 'Eric']].Age"
   ]
  },
  {
   "cell_type": "markdown",
   "metadata": {},
   "source": [
    "### Importer les données d'un fichier CSV"
   ]
  },
  {
   "cell_type": "code",
   "execution_count": 11,
   "metadata": {},
   "outputs": [],
   "source": [
    "df_covid = pd.read_csv(\"https://raw.githubusercontent.com/openZH/covid_19/master/COVID19_Fallzahlen_CH_total_v2.csv\")"
   ]
  },
  {
   "cell_type": "code",
   "execution_count": 12,
   "metadata": {},
   "outputs": [
    {
     "data": {
      "text/html": [
       "<div>\n",
       "<style scoped>\n",
       "    .dataframe tbody tr th:only-of-type {\n",
       "        vertical-align: middle;\n",
       "    }\n",
       "\n",
       "    .dataframe tbody tr th {\n",
       "        vertical-align: top;\n",
       "    }\n",
       "\n",
       "    .dataframe thead th {\n",
       "        text-align: right;\n",
       "    }\n",
       "</style>\n",
       "<table border=\"1\" class=\"dataframe\">\n",
       "  <thead>\n",
       "    <tr style=\"text-align: right;\">\n",
       "      <th></th>\n",
       "      <th>date</th>\n",
       "      <th>time</th>\n",
       "      <th>abbreviation_canton_and_fl</th>\n",
       "      <th>ncumul_tested</th>\n",
       "      <th>ncumul_conf</th>\n",
       "      <th>new_hosp</th>\n",
       "      <th>current_hosp</th>\n",
       "      <th>current_icu</th>\n",
       "      <th>current_vent</th>\n",
       "      <th>ncumul_released</th>\n",
       "      <th>ncumul_deceased</th>\n",
       "      <th>source</th>\n",
       "      <th>current_isolated</th>\n",
       "      <th>current_quarantined</th>\n",
       "      <th>current_quarantined_riskareatravel</th>\n",
       "      <th>current_quarantined_total</th>\n",
       "    </tr>\n",
       "  </thead>\n",
       "  <tbody>\n",
       "    <tr>\n",
       "      <th>0</th>\n",
       "      <td>2020-01-24</td>\n",
       "      <td>NaN</td>\n",
       "      <td>GE</td>\n",
       "      <td>4.0</td>\n",
       "      <td>NaN</td>\n",
       "      <td>NaN</td>\n",
       "      <td>NaN</td>\n",
       "      <td>NaN</td>\n",
       "      <td>NaN</td>\n",
       "      <td>NaN</td>\n",
       "      <td>NaN</td>\n",
       "      <td>https://www.ge.ch/document/20094/annexe/0</td>\n",
       "      <td>NaN</td>\n",
       "      <td>NaN</td>\n",
       "      <td>NaN</td>\n",
       "      <td>NaN</td>\n",
       "    </tr>\n",
       "    <tr>\n",
       "      <th>1</th>\n",
       "      <td>2020-01-25</td>\n",
       "      <td>NaN</td>\n",
       "      <td>GE</td>\n",
       "      <td>8.0</td>\n",
       "      <td>0.0</td>\n",
       "      <td>NaN</td>\n",
       "      <td>NaN</td>\n",
       "      <td>NaN</td>\n",
       "      <td>NaN</td>\n",
       "      <td>NaN</td>\n",
       "      <td>NaN</td>\n",
       "      <td>https://www.ge.ch/document/21502/telecharger</td>\n",
       "      <td>NaN</td>\n",
       "      <td>NaN</td>\n",
       "      <td>NaN</td>\n",
       "      <td>NaN</td>\n",
       "    </tr>\n",
       "    <tr>\n",
       "      <th>2</th>\n",
       "      <td>2020-01-26</td>\n",
       "      <td>NaN</td>\n",
       "      <td>GE</td>\n",
       "      <td>11.0</td>\n",
       "      <td>0.0</td>\n",
       "      <td>NaN</td>\n",
       "      <td>NaN</td>\n",
       "      <td>NaN</td>\n",
       "      <td>NaN</td>\n",
       "      <td>NaN</td>\n",
       "      <td>NaN</td>\n",
       "      <td>https://www.ge.ch/document/21502/telecharger</td>\n",
       "      <td>NaN</td>\n",
       "      <td>NaN</td>\n",
       "      <td>NaN</td>\n",
       "      <td>NaN</td>\n",
       "    </tr>\n",
       "    <tr>\n",
       "      <th>3</th>\n",
       "      <td>2020-01-27</td>\n",
       "      <td>NaN</td>\n",
       "      <td>GE</td>\n",
       "      <td>18.0</td>\n",
       "      <td>0.0</td>\n",
       "      <td>NaN</td>\n",
       "      <td>NaN</td>\n",
       "      <td>NaN</td>\n",
       "      <td>NaN</td>\n",
       "      <td>NaN</td>\n",
       "      <td>NaN</td>\n",
       "      <td>https://www.ge.ch/document/21502/telecharger</td>\n",
       "      <td>NaN</td>\n",
       "      <td>NaN</td>\n",
       "      <td>NaN</td>\n",
       "      <td>NaN</td>\n",
       "    </tr>\n",
       "    <tr>\n",
       "      <th>4</th>\n",
       "      <td>2020-01-28</td>\n",
       "      <td>NaN</td>\n",
       "      <td>GE</td>\n",
       "      <td>27.0</td>\n",
       "      <td>0.0</td>\n",
       "      <td>NaN</td>\n",
       "      <td>NaN</td>\n",
       "      <td>NaN</td>\n",
       "      <td>NaN</td>\n",
       "      <td>NaN</td>\n",
       "      <td>NaN</td>\n",
       "      <td>https://www.ge.ch/document/21502/telecharger</td>\n",
       "      <td>NaN</td>\n",
       "      <td>NaN</td>\n",
       "      <td>NaN</td>\n",
       "      <td>NaN</td>\n",
       "    </tr>\n",
       "  </tbody>\n",
       "</table>\n",
       "</div>"
      ],
      "text/plain": [
       "         date time abbreviation_canton_and_fl  ncumul_tested  ncumul_conf  \\\n",
       "0  2020-01-24  NaN                         GE            4.0          NaN   \n",
       "1  2020-01-25  NaN                         GE            8.0          0.0   \n",
       "2  2020-01-26  NaN                         GE           11.0          0.0   \n",
       "3  2020-01-27  NaN                         GE           18.0          0.0   \n",
       "4  2020-01-28  NaN                         GE           27.0          0.0   \n",
       "\n",
       "   new_hosp  current_hosp  current_icu  current_vent  ncumul_released  \\\n",
       "0       NaN           NaN          NaN           NaN              NaN   \n",
       "1       NaN           NaN          NaN           NaN              NaN   \n",
       "2       NaN           NaN          NaN           NaN              NaN   \n",
       "3       NaN           NaN          NaN           NaN              NaN   \n",
       "4       NaN           NaN          NaN           NaN              NaN   \n",
       "\n",
       "   ncumul_deceased                                        source  \\\n",
       "0              NaN     https://www.ge.ch/document/20094/annexe/0   \n",
       "1              NaN  https://www.ge.ch/document/21502/telecharger   \n",
       "2              NaN  https://www.ge.ch/document/21502/telecharger   \n",
       "3              NaN  https://www.ge.ch/document/21502/telecharger   \n",
       "4              NaN  https://www.ge.ch/document/21502/telecharger   \n",
       "\n",
       "   current_isolated  current_quarantined  current_quarantined_riskareatravel  \\\n",
       "0               NaN                  NaN                                 NaN   \n",
       "1               NaN                  NaN                                 NaN   \n",
       "2               NaN                  NaN                                 NaN   \n",
       "3               NaN                  NaN                                 NaN   \n",
       "4               NaN                  NaN                                 NaN   \n",
       "\n",
       "   current_quarantined_total  \n",
       "0                        NaN  \n",
       "1                        NaN  \n",
       "2                        NaN  \n",
       "3                        NaN  \n",
       "4                        NaN  "
      ]
     },
     "execution_count": 12,
     "metadata": {},
     "output_type": "execute_result"
    }
   ],
   "source": [
    "# Affichons le début de ce DataFrame (5 premières lignes; * configurable *)\n",
    "df_covid.head()"
   ]
  },
  {
   "cell_type": "code",
   "execution_count": 13,
   "metadata": {},
   "outputs": [
    {
     "name": "stdout",
     "output_type": "stream",
     "text": [
      "<class 'pandas.core.frame.DataFrame'>\n",
      "RangeIndex: 6176 entries, 0 to 6175\n",
      "Data columns (total 16 columns):\n",
      " #   Column                              Non-Null Count  Dtype  \n",
      "---  ------                              --------------  -----  \n",
      " 0   date                                6176 non-null   object \n",
      " 1   time                                2973 non-null   object \n",
      " 2   abbreviation_canton_and_fl          6176 non-null   object \n",
      " 3   ncumul_tested                       167 non-null    float64\n",
      " 4   ncumul_conf                         6107 non-null   float64\n",
      " 5   new_hosp                            590 non-null    float64\n",
      " 6   current_hosp                        5073 non-null   float64\n",
      " 7   current_icu                         4222 non-null   float64\n",
      " 8   current_vent                        1841 non-null   float64\n",
      " 9   ncumul_released                     2663 non-null   float64\n",
      " 10  ncumul_deceased                     5861 non-null   float64\n",
      " 11  source                              6175 non-null   object \n",
      " 12  current_isolated                    2062 non-null   float64\n",
      " 13  current_quarantined                 2015 non-null   float64\n",
      " 14  current_quarantined_riskareatravel  0 non-null      float64\n",
      " 15  current_quarantined_total           0 non-null      float64\n",
      "dtypes: float64(12), object(4)\n",
      "memory usage: 772.1+ KB\n"
     ]
    }
   ],
   "source": [
    "# Beaucoup d'éléments NaN\n",
    "df_covid.info()"
   ]
  },
  {
   "cell_type": "code",
   "execution_count": 14,
   "metadata": {},
   "outputs": [
    {
     "data": {
      "text/plain": [
       "(6176, 16)"
      ]
     },
     "execution_count": 14,
     "metadata": {},
     "output_type": "execute_result"
    }
   ],
   "source": [
    "df_covid.shape"
   ]
  },
  {
   "cell_type": "code",
   "execution_count": 15,
   "metadata": {},
   "outputs": [
    {
     "data": {
      "text/plain": [
       "count     6176\n",
       "unique      27\n",
       "top         GE\n",
       "freq       289\n",
       "Name: abbreviation_canton_and_fl, dtype: object"
      ]
     },
     "execution_count": 15,
     "metadata": {},
     "output_type": "execute_result"
    }
   ],
   "source": [
    "# Essayer également avec 'date'\n",
    "df_covid['abbreviation_canton_and_fl'].describe()"
   ]
  },
  {
   "cell_type": "code",
   "execution_count": 16,
   "metadata": {},
   "outputs": [
    {
     "data": {
      "text/plain": [
       "RangeIndex(start=0, stop=6176, step=1)"
      ]
     },
     "execution_count": 16,
     "metadata": {},
     "output_type": "execute_result"
    }
   ],
   "source": [
    "df_covid.index"
   ]
  },
  {
   "cell_type": "code",
   "execution_count": 17,
   "metadata": {},
   "outputs": [],
   "source": [
    "# Le champ 'date' est interprété comme un objet de type string\n",
    "# De plus, on aimerait que le tableau soit indexé par la date\n",
    "df_covid['date'] = pd.to_datetime(df_covid['date'])\n",
    "df_covid = df_covid.set_index('date')"
   ]
  },
  {
   "cell_type": "code",
   "execution_count": 18,
   "metadata": {},
   "outputs": [
    {
     "data": {
      "text/html": [
       "<div>\n",
       "<style scoped>\n",
       "    .dataframe tbody tr th:only-of-type {\n",
       "        vertical-align: middle;\n",
       "    }\n",
       "\n",
       "    .dataframe tbody tr th {\n",
       "        vertical-align: top;\n",
       "    }\n",
       "\n",
       "    .dataframe thead th {\n",
       "        text-align: right;\n",
       "    }\n",
       "</style>\n",
       "<table border=\"1\" class=\"dataframe\">\n",
       "  <thead>\n",
       "    <tr style=\"text-align: right;\">\n",
       "      <th></th>\n",
       "      <th>time</th>\n",
       "      <th>abbreviation_canton_and_fl</th>\n",
       "      <th>ncumul_tested</th>\n",
       "      <th>ncumul_conf</th>\n",
       "      <th>new_hosp</th>\n",
       "      <th>current_hosp</th>\n",
       "      <th>current_icu</th>\n",
       "      <th>current_vent</th>\n",
       "      <th>ncumul_released</th>\n",
       "      <th>ncumul_deceased</th>\n",
       "      <th>source</th>\n",
       "      <th>current_isolated</th>\n",
       "      <th>current_quarantined</th>\n",
       "      <th>current_quarantined_riskareatravel</th>\n",
       "      <th>current_quarantined_total</th>\n",
       "    </tr>\n",
       "    <tr>\n",
       "      <th>date</th>\n",
       "      <th></th>\n",
       "      <th></th>\n",
       "      <th></th>\n",
       "      <th></th>\n",
       "      <th></th>\n",
       "      <th></th>\n",
       "      <th></th>\n",
       "      <th></th>\n",
       "      <th></th>\n",
       "      <th></th>\n",
       "      <th></th>\n",
       "      <th></th>\n",
       "      <th></th>\n",
       "      <th></th>\n",
       "      <th></th>\n",
       "    </tr>\n",
       "  </thead>\n",
       "  <tbody>\n",
       "    <tr>\n",
       "      <th>2020-01-24</th>\n",
       "      <td>NaN</td>\n",
       "      <td>GE</td>\n",
       "      <td>4.0</td>\n",
       "      <td>NaN</td>\n",
       "      <td>NaN</td>\n",
       "      <td>NaN</td>\n",
       "      <td>NaN</td>\n",
       "      <td>NaN</td>\n",
       "      <td>NaN</td>\n",
       "      <td>NaN</td>\n",
       "      <td>https://www.ge.ch/document/20094/annexe/0</td>\n",
       "      <td>NaN</td>\n",
       "      <td>NaN</td>\n",
       "      <td>NaN</td>\n",
       "      <td>NaN</td>\n",
       "    </tr>\n",
       "    <tr>\n",
       "      <th>2020-01-25</th>\n",
       "      <td>NaN</td>\n",
       "      <td>GE</td>\n",
       "      <td>8.0</td>\n",
       "      <td>0.0</td>\n",
       "      <td>NaN</td>\n",
       "      <td>NaN</td>\n",
       "      <td>NaN</td>\n",
       "      <td>NaN</td>\n",
       "      <td>NaN</td>\n",
       "      <td>NaN</td>\n",
       "      <td>https://www.ge.ch/document/21502/telecharger</td>\n",
       "      <td>NaN</td>\n",
       "      <td>NaN</td>\n",
       "      <td>NaN</td>\n",
       "      <td>NaN</td>\n",
       "    </tr>\n",
       "    <tr>\n",
       "      <th>2020-01-26</th>\n",
       "      <td>NaN</td>\n",
       "      <td>GE</td>\n",
       "      <td>11.0</td>\n",
       "      <td>0.0</td>\n",
       "      <td>NaN</td>\n",
       "      <td>NaN</td>\n",
       "      <td>NaN</td>\n",
       "      <td>NaN</td>\n",
       "      <td>NaN</td>\n",
       "      <td>NaN</td>\n",
       "      <td>https://www.ge.ch/document/21502/telecharger</td>\n",
       "      <td>NaN</td>\n",
       "      <td>NaN</td>\n",
       "      <td>NaN</td>\n",
       "      <td>NaN</td>\n",
       "    </tr>\n",
       "    <tr>\n",
       "      <th>2020-01-27</th>\n",
       "      <td>NaN</td>\n",
       "      <td>GE</td>\n",
       "      <td>18.0</td>\n",
       "      <td>0.0</td>\n",
       "      <td>NaN</td>\n",
       "      <td>NaN</td>\n",
       "      <td>NaN</td>\n",
       "      <td>NaN</td>\n",
       "      <td>NaN</td>\n",
       "      <td>NaN</td>\n",
       "      <td>https://www.ge.ch/document/21502/telecharger</td>\n",
       "      <td>NaN</td>\n",
       "      <td>NaN</td>\n",
       "      <td>NaN</td>\n",
       "      <td>NaN</td>\n",
       "    </tr>\n",
       "    <tr>\n",
       "      <th>2020-01-28</th>\n",
       "      <td>NaN</td>\n",
       "      <td>GE</td>\n",
       "      <td>27.0</td>\n",
       "      <td>0.0</td>\n",
       "      <td>NaN</td>\n",
       "      <td>NaN</td>\n",
       "      <td>NaN</td>\n",
       "      <td>NaN</td>\n",
       "      <td>NaN</td>\n",
       "      <td>NaN</td>\n",
       "      <td>https://www.ge.ch/document/21502/telecharger</td>\n",
       "      <td>NaN</td>\n",
       "      <td>NaN</td>\n",
       "      <td>NaN</td>\n",
       "      <td>NaN</td>\n",
       "    </tr>\n",
       "  </tbody>\n",
       "</table>\n",
       "</div>"
      ],
      "text/plain": [
       "           time abbreviation_canton_and_fl  ncumul_tested  ncumul_conf  \\\n",
       "date                                                                     \n",
       "2020-01-24  NaN                         GE            4.0          NaN   \n",
       "2020-01-25  NaN                         GE            8.0          0.0   \n",
       "2020-01-26  NaN                         GE           11.0          0.0   \n",
       "2020-01-27  NaN                         GE           18.0          0.0   \n",
       "2020-01-28  NaN                         GE           27.0          0.0   \n",
       "\n",
       "            new_hosp  current_hosp  current_icu  current_vent  \\\n",
       "date                                                            \n",
       "2020-01-24       NaN           NaN          NaN           NaN   \n",
       "2020-01-25       NaN           NaN          NaN           NaN   \n",
       "2020-01-26       NaN           NaN          NaN           NaN   \n",
       "2020-01-27       NaN           NaN          NaN           NaN   \n",
       "2020-01-28       NaN           NaN          NaN           NaN   \n",
       "\n",
       "            ncumul_released  ncumul_deceased  \\\n",
       "date                                           \n",
       "2020-01-24              NaN              NaN   \n",
       "2020-01-25              NaN              NaN   \n",
       "2020-01-26              NaN              NaN   \n",
       "2020-01-27              NaN              NaN   \n",
       "2020-01-28              NaN              NaN   \n",
       "\n",
       "                                                  source  current_isolated  \\\n",
       "date                                                                         \n",
       "2020-01-24     https://www.ge.ch/document/20094/annexe/0               NaN   \n",
       "2020-01-25  https://www.ge.ch/document/21502/telecharger               NaN   \n",
       "2020-01-26  https://www.ge.ch/document/21502/telecharger               NaN   \n",
       "2020-01-27  https://www.ge.ch/document/21502/telecharger               NaN   \n",
       "2020-01-28  https://www.ge.ch/document/21502/telecharger               NaN   \n",
       "\n",
       "            current_quarantined  current_quarantined_riskareatravel  \\\n",
       "date                                                                  \n",
       "2020-01-24                  NaN                                 NaN   \n",
       "2020-01-25                  NaN                                 NaN   \n",
       "2020-01-26                  NaN                                 NaN   \n",
       "2020-01-27                  NaN                                 NaN   \n",
       "2020-01-28                  NaN                                 NaN   \n",
       "\n",
       "            current_quarantined_total  \n",
       "date                                   \n",
       "2020-01-24                        NaN  \n",
       "2020-01-25                        NaN  \n",
       "2020-01-26                        NaN  \n",
       "2020-01-27                        NaN  \n",
       "2020-01-28                        NaN  "
      ]
     },
     "execution_count": 18,
     "metadata": {},
     "output_type": "execute_result"
    }
   ],
   "source": [
    "df_covid.head()"
   ]
  },
  {
   "cell_type": "code",
   "execution_count": 19,
   "metadata": {},
   "outputs": [],
   "source": [
    "# On peut faire cette manipulation à l'appel de la fonction read_csv\n",
    "# Sélectionnons aussi un sous-ensemble des colonnes\n",
    "df_covid = pd.read_csv(\"https://raw.githubusercontent.com/openZH/covid_19/master/COVID19_Fallzahlen_CH_total_v2.csv\", usecols=[0,2,4,6,10], index_col=\"date\", parse_dates=True)"
   ]
  },
  {
   "cell_type": "code",
   "execution_count": 20,
   "metadata": {},
   "outputs": [
    {
     "data": {
      "text/plain": [
       "DatetimeIndex(['2020-01-24', '2020-01-25', '2020-01-26', '2020-01-27',\n",
       "               '2020-01-28', '2020-01-29', '2020-01-30', '2020-01-31',\n",
       "               '2020-02-01', '2020-02-02',\n",
       "               ...\n",
       "               '2020-11-08', '2020-11-08', '2020-11-08', '2020-11-08',\n",
       "               '2020-11-08', '2020-11-08', '2020-11-08', '2020-11-08',\n",
       "               '2020-11-08', '2020-11-09'],\n",
       "              dtype='datetime64[ns]', name='date', length=6176, freq=None)"
      ]
     },
     "execution_count": 20,
     "metadata": {},
     "output_type": "execute_result"
    }
   ],
   "source": [
    "df_covid.index"
   ]
  },
  {
   "cell_type": "code",
   "execution_count": 21,
   "metadata": {},
   "outputs": [
    {
     "data": {
      "text/html": [
       "<div>\n",
       "<style scoped>\n",
       "    .dataframe tbody tr th:only-of-type {\n",
       "        vertical-align: middle;\n",
       "    }\n",
       "\n",
       "    .dataframe tbody tr th {\n",
       "        vertical-align: top;\n",
       "    }\n",
       "\n",
       "    .dataframe thead th {\n",
       "        text-align: right;\n",
       "    }\n",
       "</style>\n",
       "<table border=\"1\" class=\"dataframe\">\n",
       "  <thead>\n",
       "    <tr style=\"text-align: right;\">\n",
       "      <th></th>\n",
       "      <th>abbreviation_canton_and_fl</th>\n",
       "      <th>ncumul_conf</th>\n",
       "      <th>current_hosp</th>\n",
       "      <th>ncumul_deceased</th>\n",
       "    </tr>\n",
       "    <tr>\n",
       "      <th>date</th>\n",
       "      <th></th>\n",
       "      <th></th>\n",
       "      <th></th>\n",
       "      <th></th>\n",
       "    </tr>\n",
       "  </thead>\n",
       "  <tbody>\n",
       "    <tr>\n",
       "      <th>2020-01-24</th>\n",
       "      <td>GE</td>\n",
       "      <td>NaN</td>\n",
       "      <td>NaN</td>\n",
       "      <td>NaN</td>\n",
       "    </tr>\n",
       "    <tr>\n",
       "      <th>2020-01-25</th>\n",
       "      <td>GE</td>\n",
       "      <td>0.0</td>\n",
       "      <td>NaN</td>\n",
       "      <td>NaN</td>\n",
       "    </tr>\n",
       "    <tr>\n",
       "      <th>2020-01-26</th>\n",
       "      <td>GE</td>\n",
       "      <td>0.0</td>\n",
       "      <td>NaN</td>\n",
       "      <td>NaN</td>\n",
       "    </tr>\n",
       "    <tr>\n",
       "      <th>2020-01-27</th>\n",
       "      <td>GE</td>\n",
       "      <td>0.0</td>\n",
       "      <td>NaN</td>\n",
       "      <td>NaN</td>\n",
       "    </tr>\n",
       "    <tr>\n",
       "      <th>2020-01-28</th>\n",
       "      <td>GE</td>\n",
       "      <td>0.0</td>\n",
       "      <td>NaN</td>\n",
       "      <td>NaN</td>\n",
       "    </tr>\n",
       "  </tbody>\n",
       "</table>\n",
       "</div>"
      ],
      "text/plain": [
       "           abbreviation_canton_and_fl  ncumul_conf  current_hosp  \\\n",
       "date                                                               \n",
       "2020-01-24                         GE          NaN           NaN   \n",
       "2020-01-25                         GE          0.0           NaN   \n",
       "2020-01-26                         GE          0.0           NaN   \n",
       "2020-01-27                         GE          0.0           NaN   \n",
       "2020-01-28                         GE          0.0           NaN   \n",
       "\n",
       "            ncumul_deceased  \n",
       "date                         \n",
       "2020-01-24              NaN  \n",
       "2020-01-25              NaN  \n",
       "2020-01-26              NaN  \n",
       "2020-01-27              NaN  \n",
       "2020-01-28              NaN  "
      ]
     },
     "execution_count": 21,
     "metadata": {},
     "output_type": "execute_result"
    }
   ],
   "source": [
    "df_covid.head()"
   ]
  },
  {
   "cell_type": "code",
   "execution_count": 22,
   "metadata": {},
   "outputs": [
    {
     "data": {
      "text/plain": [
       "(6176, 4)"
      ]
     },
     "execution_count": 22,
     "metadata": {},
     "output_type": "execute_result"
    }
   ],
   "source": [
    "df_covid.shape"
   ]
  },
  {
   "cell_type": "code",
   "execution_count": 23,
   "metadata": {},
   "outputs": [
    {
     "name": "stdout",
     "output_type": "stream",
     "text": [
      "<class 'pandas.core.frame.DataFrame'>\n",
      "DatetimeIndex: 6176 entries, 2020-01-24 to 2020-11-09\n",
      "Data columns (total 4 columns):\n",
      " #   Column                      Non-Null Count  Dtype  \n",
      "---  ------                      --------------  -----  \n",
      " 0   abbreviation_canton_and_fl  6176 non-null   object \n",
      " 1   ncumul_conf                 6107 non-null   float64\n",
      " 2   current_hosp                5073 non-null   float64\n",
      " 3   ncumul_deceased             5861 non-null   float64\n",
      "dtypes: float64(3), object(1)\n",
      "memory usage: 241.2+ KB\n"
     ]
    }
   ],
   "source": [
    "df_covid.info()"
   ]
  },
  {
   "cell_type": "markdown",
   "metadata": {},
   "source": [
    "### Sélectionner et filtrer des éléments"
   ]
  },
  {
   "cell_type": "code",
   "execution_count": 24,
   "metadata": {},
   "outputs": [
    {
     "name": "stdout",
     "output_type": "stream",
     "text": [
      "<class 'pandas.core.frame.DataFrame'>\n",
      "DatetimeIndex: 4967 entries, 2020-02-25 to 2020-11-09\n",
      "Data columns (total 4 columns):\n",
      " #   Column                      Non-Null Count  Dtype  \n",
      "---  ------                      --------------  -----  \n",
      " 0   abbreviation_canton_and_fl  4967 non-null   object \n",
      " 1   ncumul_conf                 4967 non-null   float64\n",
      " 2   current_hosp                4967 non-null   float64\n",
      " 3   ncumul_deceased             4967 non-null   float64\n",
      "dtypes: float64(3), object(1)\n",
      "memory usage: 194.0+ KB\n"
     ]
    }
   ],
   "source": [
    "# Retirons toutes les lignes qui contiennent au moins un NaN\n",
    "df_covid.dropna().info() # thresh=3"
   ]
  },
  {
   "cell_type": "code",
   "execution_count": 25,
   "metadata": {},
   "outputs": [
    {
     "data": {
      "text/plain": [
       "27"
      ]
     },
     "execution_count": 25,
     "metadata": {},
     "output_type": "execute_result"
    }
   ],
   "source": [
    "# Combien de cantons (+ Liechtenstein / Triesenberg: FL)\n",
    "df_covid['abbreviation_canton_and_fl'].unique().size"
   ]
  },
  {
   "cell_type": "code",
   "execution_count": 26,
   "metadata": {},
   "outputs": [
    {
     "data": {
      "text/html": [
       "<div>\n",
       "<style scoped>\n",
       "    .dataframe tbody tr th:only-of-type {\n",
       "        vertical-align: middle;\n",
       "    }\n",
       "\n",
       "    .dataframe tbody tr th {\n",
       "        vertical-align: top;\n",
       "    }\n",
       "\n",
       "    .dataframe thead th {\n",
       "        text-align: right;\n",
       "    }\n",
       "</style>\n",
       "<table border=\"1\" class=\"dataframe\">\n",
       "  <thead>\n",
       "    <tr style=\"text-align: right;\">\n",
       "      <th></th>\n",
       "      <th>abbreviation_canton_and_fl</th>\n",
       "      <th>ncumul_conf</th>\n",
       "      <th>current_hosp</th>\n",
       "      <th>ncumul_deceased</th>\n",
       "    </tr>\n",
       "    <tr>\n",
       "      <th>date</th>\n",
       "      <th></th>\n",
       "      <th></th>\n",
       "      <th></th>\n",
       "      <th></th>\n",
       "    </tr>\n",
       "  </thead>\n",
       "  <tbody>\n",
       "    <tr>\n",
       "      <th>2020-09-23</th>\n",
       "      <td>VD</td>\n",
       "      <td>10005.0</td>\n",
       "      <td>36.0</td>\n",
       "      <td>314.0</td>\n",
       "    </tr>\n",
       "    <tr>\n",
       "      <th>2020-09-24</th>\n",
       "      <td>VD</td>\n",
       "      <td>10086.0</td>\n",
       "      <td>37.0</td>\n",
       "      <td>316.0</td>\n",
       "    </tr>\n",
       "    <tr>\n",
       "      <th>2020-09-25</th>\n",
       "      <td>VD</td>\n",
       "      <td>10169.0</td>\n",
       "      <td>39.0</td>\n",
       "      <td>317.0</td>\n",
       "    </tr>\n",
       "    <tr>\n",
       "      <th>2020-09-26</th>\n",
       "      <td>VD</td>\n",
       "      <td>10220.0</td>\n",
       "      <td>44.0</td>\n",
       "      <td>317.0</td>\n",
       "    </tr>\n",
       "    <tr>\n",
       "      <th>2020-09-27</th>\n",
       "      <td>VD</td>\n",
       "      <td>10249.0</td>\n",
       "      <td>43.0</td>\n",
       "      <td>317.0</td>\n",
       "    </tr>\n",
       "    <tr>\n",
       "      <th>...</th>\n",
       "      <td>...</td>\n",
       "      <td>...</td>\n",
       "      <td>...</td>\n",
       "      <td>...</td>\n",
       "    </tr>\n",
       "    <tr>\n",
       "      <th>2020-11-07</th>\n",
       "      <td>TI</td>\n",
       "      <td>10052.0</td>\n",
       "      <td>267.0</td>\n",
       "      <td>391.0</td>\n",
       "    </tr>\n",
       "    <tr>\n",
       "      <th>2020-11-08</th>\n",
       "      <td>FR</td>\n",
       "      <td>15298.0</td>\n",
       "      <td>192.0</td>\n",
       "      <td>201.0</td>\n",
       "    </tr>\n",
       "    <tr>\n",
       "      <th>2020-11-08</th>\n",
       "      <td>SG</td>\n",
       "      <td>10827.0</td>\n",
       "      <td>204.0</td>\n",
       "      <td>117.0</td>\n",
       "    </tr>\n",
       "    <tr>\n",
       "      <th>2020-11-08</th>\n",
       "      <td>BE</td>\n",
       "      <td>19233.0</td>\n",
       "      <td>376.0</td>\n",
       "      <td>175.0</td>\n",
       "    </tr>\n",
       "    <tr>\n",
       "      <th>2020-11-08</th>\n",
       "      <td>TI</td>\n",
       "      <td>10238.0</td>\n",
       "      <td>281.0</td>\n",
       "      <td>397.0</td>\n",
       "    </tr>\n",
       "  </tbody>\n",
       "</table>\n",
       "<p>134 rows × 4 columns</p>\n",
       "</div>"
      ],
      "text/plain": [
       "           abbreviation_canton_and_fl  ncumul_conf  current_hosp  \\\n",
       "date                                                               \n",
       "2020-09-23                         VD      10005.0          36.0   \n",
       "2020-09-24                         VD      10086.0          37.0   \n",
       "2020-09-25                         VD      10169.0          39.0   \n",
       "2020-09-26                         VD      10220.0          44.0   \n",
       "2020-09-27                         VD      10249.0          43.0   \n",
       "...                               ...          ...           ...   \n",
       "2020-11-07                         TI      10052.0         267.0   \n",
       "2020-11-08                         FR      15298.0         192.0   \n",
       "2020-11-08                         SG      10827.0         204.0   \n",
       "2020-11-08                         BE      19233.0         376.0   \n",
       "2020-11-08                         TI      10238.0         281.0   \n",
       "\n",
       "            ncumul_deceased  \n",
       "date                         \n",
       "2020-09-23            314.0  \n",
       "2020-09-24            316.0  \n",
       "2020-09-25            317.0  \n",
       "2020-09-26            317.0  \n",
       "2020-09-27            317.0  \n",
       "...                     ...  \n",
       "2020-11-07            391.0  \n",
       "2020-11-08            201.0  \n",
       "2020-11-08            117.0  \n",
       "2020-11-08            175.0  \n",
       "2020-11-08            397.0  \n",
       "\n",
       "[134 rows x 4 columns]"
      ]
     },
     "execution_count": 26,
     "metadata": {},
     "output_type": "execute_result"
    }
   ],
   "source": [
    "# Gardons les lignes pour lesquelles ncumul_conf > 10000\n",
    "df_covid[ df_covid['ncumul_conf'] > 10000 ]"
   ]
  },
  {
   "cell_type": "code",
   "execution_count": 27,
   "metadata": {},
   "outputs": [
    {
     "data": {
      "text/html": [
       "<div>\n",
       "<style scoped>\n",
       "    .dataframe tbody tr th:only-of-type {\n",
       "        vertical-align: middle;\n",
       "    }\n",
       "\n",
       "    .dataframe tbody tr th {\n",
       "        vertical-align: top;\n",
       "    }\n",
       "\n",
       "    .dataframe thead th {\n",
       "        text-align: right;\n",
       "    }\n",
       "</style>\n",
       "<table border=\"1\" class=\"dataframe\">\n",
       "  <thead>\n",
       "    <tr style=\"text-align: right;\">\n",
       "      <th></th>\n",
       "      <th>abbreviation_canton_and_fl</th>\n",
       "      <th>ncumul_conf</th>\n",
       "      <th>current_hosp</th>\n",
       "      <th>ncumul_deceased</th>\n",
       "    </tr>\n",
       "    <tr>\n",
       "      <th>date</th>\n",
       "      <th></th>\n",
       "      <th></th>\n",
       "      <th></th>\n",
       "      <th></th>\n",
       "    </tr>\n",
       "  </thead>\n",
       "  <tbody>\n",
       "    <tr>\n",
       "      <th>2020-09-23</th>\n",
       "      <td>VD</td>\n",
       "      <td>10005.0</td>\n",
       "      <td>36.0</td>\n",
       "      <td>314.0</td>\n",
       "    </tr>\n",
       "    <tr>\n",
       "      <th>2020-09-24</th>\n",
       "      <td>VD</td>\n",
       "      <td>10086.0</td>\n",
       "      <td>37.0</td>\n",
       "      <td>316.0</td>\n",
       "    </tr>\n",
       "    <tr>\n",
       "      <th>2020-09-25</th>\n",
       "      <td>VD</td>\n",
       "      <td>10169.0</td>\n",
       "      <td>39.0</td>\n",
       "      <td>317.0</td>\n",
       "    </tr>\n",
       "    <tr>\n",
       "      <th>2020-09-26</th>\n",
       "      <td>VD</td>\n",
       "      <td>10220.0</td>\n",
       "      <td>44.0</td>\n",
       "      <td>317.0</td>\n",
       "    </tr>\n",
       "    <tr>\n",
       "      <th>2020-09-27</th>\n",
       "      <td>VD</td>\n",
       "      <td>10249.0</td>\n",
       "      <td>43.0</td>\n",
       "      <td>317.0</td>\n",
       "    </tr>\n",
       "  </tbody>\n",
       "</table>\n",
       "</div>"
      ],
      "text/plain": [
       "           abbreviation_canton_and_fl  ncumul_conf  current_hosp  \\\n",
       "date                                                               \n",
       "2020-09-23                         VD      10005.0          36.0   \n",
       "2020-09-24                         VD      10086.0          37.0   \n",
       "2020-09-25                         VD      10169.0          39.0   \n",
       "2020-09-26                         VD      10220.0          44.0   \n",
       "2020-09-27                         VD      10249.0          43.0   \n",
       "\n",
       "            ncumul_deceased  \n",
       "date                         \n",
       "2020-09-23            314.0  \n",
       "2020-09-24            316.0  \n",
       "2020-09-25            317.0  \n",
       "2020-09-26            317.0  \n",
       "2020-09-27            317.0  "
      ]
     },
     "execution_count": 27,
     "metadata": {},
     "output_type": "execute_result"
    }
   ],
   "source": [
    "# Gardons les lignes pour lesquelles ncumul_conf > 10000 pour le canton de Vaud uniquement\n",
    "df_covid_filtered = df_covid[ df_covid['ncumul_conf'] > 10000 ]\n",
    "df_covid_filtered[ df_covid_filtered['abbreviation_canton_and_fl'] == \"VD\" ].head()"
   ]
  },
  {
   "cell_type": "markdown",
   "metadata": {},
   "source": [
    "### Grouper un DataFrame par une (ou plusieurs) colonne(s)"
   ]
  },
  {
   "cell_type": "code",
   "execution_count": 28,
   "metadata": {},
   "outputs": [],
   "source": [
    "# Groupons par Canton\n",
    "df_covid_grouped = df_covid.groupby('abbreviation_canton_and_fl')"
   ]
  },
  {
   "cell_type": "code",
   "execution_count": 29,
   "metadata": {},
   "outputs": [
    {
     "data": {
      "text/plain": [
       "abbreviation_canton_and_fl\n",
       "AG    133.0\n",
       "AI     10.0\n",
       "AR     24.0\n",
       "BE    376.0\n",
       "BL     99.0\n",
       "BS    119.0\n",
       "FL     16.0\n",
       "FR    202.0\n",
       "GE    608.0\n",
       "GL     19.0\n",
       "GR     63.0\n",
       "JU     95.0\n",
       "LU    100.0\n",
       "NE    125.0\n",
       "NW     12.0\n",
       "OW     13.0\n",
       "SG    204.0\n",
       "SH     20.0\n",
       "SO     62.0\n",
       "SZ     25.0\n",
       "TG     46.0\n",
       "TI    415.0\n",
       "UR     10.0\n",
       "VD    468.0\n",
       "VS    337.0\n",
       "ZG     36.0\n",
       "ZH    336.0\n",
       "Name: current_hosp, dtype: float64"
      ]
     },
     "execution_count": 29,
     "metadata": {},
     "output_type": "execute_result"
    }
   ],
   "source": [
    "# Nombre maximum d'hospitalisations atteint par canton\n",
    "df_covid_grouped.current_hosp.max()"
   ]
  },
  {
   "cell_type": "markdown",
   "metadata": {},
   "source": [
    "### Mais on pourrait vouloir rééchantillonner ces données (grâce à l'index DateTimeIndex)"
   ]
  },
  {
   "cell_type": "code",
   "execution_count": 30,
   "metadata": {},
   "outputs": [
    {
     "data": {
      "text/plain": [
       "abbreviation_canton_and_fl  date      \n",
       "AG                          2020-03-01      NaN\n",
       "                            2020-03-08      NaN\n",
       "                            2020-03-15      1.0\n",
       "                            2020-03-22     25.0\n",
       "                            2020-03-29     50.0\n",
       "                                          ...  \n",
       "ZH                          2020-10-11     50.0\n",
       "                            2020-10-18     71.0\n",
       "                            2020-10-25    159.0\n",
       "                            2020-11-01    258.0\n",
       "                            2020-11-08    336.0\n",
       "Name: current_hosp, Length: 987, dtype: float64"
      ]
     },
     "execution_count": 30,
     "metadata": {},
     "output_type": "execute_result"
    }
   ],
   "source": [
    "# Par exemple: Nombre maximum d'hospitalisations **hebdomadaire** atteint par canton\n",
    "df_covid_grouped.resample('W').current_hosp.max()"
   ]
  },
  {
   "cell_type": "code",
   "execution_count": 31,
   "metadata": {},
   "outputs": [
    {
     "data": {
      "text/plain": [
       "date\n",
       "2020-03-01      4.0\n",
       "2020-03-08     22.0\n",
       "2020-03-15    113.0\n",
       "2020-03-22    259.0\n",
       "2020-03-29    409.0\n",
       "2020-04-05    419.0\n",
       "2020-04-12    389.0\n",
       "2020-04-19    326.0\n",
       "2020-04-26    218.0\n",
       "2020-05-03    164.0\n",
       "2020-05-10    100.0\n",
       "2020-05-17     74.0\n",
       "2020-05-24     49.0\n",
       "2020-05-31     35.0\n",
       "2020-06-07     28.0\n",
       "2020-06-14     25.0\n",
       "2020-06-21     23.0\n",
       "2020-06-28     16.0\n",
       "2020-07-05     14.0\n",
       "2020-07-12     11.0\n",
       "2020-07-19     13.0\n",
       "2020-07-26     15.0\n",
       "2020-08-02     17.0\n",
       "2020-08-09     17.0\n",
       "2020-08-16     13.0\n",
       "2020-08-23     19.0\n",
       "2020-08-30     25.0\n",
       "2020-09-06     23.0\n",
       "2020-09-13     38.0\n",
       "2020-09-20     45.0\n",
       "2020-09-27     44.0\n",
       "2020-10-04     48.0\n",
       "2020-10-11     81.0\n",
       "2020-10-18    161.0\n",
       "2020-10-25    254.0\n",
       "2020-11-01    433.0\n",
       "2020-11-08    468.0\n",
       "Name: current_hosp, dtype: float64"
      ]
     },
     "execution_count": 31,
     "metadata": {},
     "output_type": "execute_result"
    }
   ],
   "source": [
    "# Pour le canton de Vaud\n",
    "df_covid_grouped.resample('W').current_hosp.max()['VD']"
   ]
  },
  {
   "cell_type": "code",
   "execution_count": 32,
   "metadata": {},
   "outputs": [
    {
     "data": {
      "text/plain": [
       "date\n",
       "2020-02-29      4.0\n",
       "2020-03-31    419.0\n",
       "2020-04-30    419.0\n",
       "2020-05-31    121.0\n",
       "2020-06-30     28.0\n",
       "2020-07-31     15.0\n",
       "2020-08-31     25.0\n",
       "2020-09-30     48.0\n",
       "2020-10-31    409.0\n",
       "2020-11-30    468.0\n",
       "Name: current_hosp, dtype: float64"
      ]
     },
     "execution_count": 32,
     "metadata": {},
     "output_type": "execute_result"
    }
   ],
   "source": [
    "# La même chose mais nombre mensuel\n",
    "df_covid_grouped.resample('M').current_hosp.max()['VD']"
   ]
  },
  {
   "cell_type": "code",
   "execution_count": 33,
   "metadata": {},
   "outputs": [
    {
     "data": {
      "text/plain": [
       "[<matplotlib.lines.Line2D at 0x11be63310>]"
      ]
     },
     "execution_count": 33,
     "metadata": {},
     "output_type": "execute_result"
    },
    {
     "data": {
      "image/png": "[encoded data removed]",
      "text/plain": [
       "<Figure size 2160x576 with 1 Axes>"
      ]
     },
     "metadata": {
      "needs_background": "light"
     },
     "output_type": "display_data"
    }
   ],
   "source": [
    "# Petit exemple avec Matplotlib\n",
    "import matplotlib.pyplot as plt\n",
    "\n",
    "%matplotlib inline\n",
    "\n",
    "plt.figure(figsize=(30,8))\n",
    "plt.plot(df_covid_grouped.resample('W').current_hosp.mean()['VD'], 'rx')\n",
    "plt.plot(df_covid_grouped.resample('W').current_hosp.mean()['FR'], 'bo')"
   ]
  },
  {
   "cell_type": "markdown",
   "metadata": {},
   "source": [
    "### Petit exercice (pas si) simple"
   ]
  },
  {
   "cell_type": "markdown",
   "metadata": {},
   "source": [
    "Déterminer combien de journées de mesures sont répertoriés par canton?"
   ]
  },
  {
   "cell_type": "code",
   "execution_count": 40,
   "metadata": {},
   "outputs": [],
   "source": [
    "# Le nombre de jours depuis le 24 janvier 2020:\n",
    "delta = (df_covid.index[-1]-df_covid.index[0]).days+1 # Convertir TimeDelta en un nombre entier (de jours) via .days"
   ]
  },
  {
   "cell_type": "markdown",
   "metadata": {},
   "source": [
    "Mais les cantons ne rapportent par leurs mesures tous les jours. Sauf un, lequel? :-)"
   ]
  },
  {
   "cell_type": "code",
   "execution_count": 44,
   "metadata": {},
   "outputs": [
    {
     "data": {
      "text/plain": [
       "<matplotlib.collections.LineCollection at 0x11be96f10>"
      ]
     },
     "execution_count": 44,
     "metadata": {},
     "output_type": "execute_result"
    },
    {
     "data": {
      "image/png": "[encoded data removed]",
      "text/plain": [
       "<Figure size 2160x576 with 1 Axes>"
      ]
     },
     "metadata": {
      "needs_background": "light"
     },
     "output_type": "display_data"
    }
   ],
   "source": [
    "# A vous de jouer (avec et sans les NaN, pour ncumul_conf, current_hosp et ncumul_deceased)\n",
    "days_reported = df_covid_grouped.ncumul_conf.count().reset_index(name='count').sort_values(['count'], ascending=False)\n",
    "days_reported.plot(x='abbreviation_canton_and_fl', y='count', kind='bar',figsize=(30,8),legend=False).hlines(delta,-2,30)"
   ]
  },
  {
   "cell_type": "markdown",
   "metadata": {},
   "source": [
    "Astuce: Une option est de passer par la function agg()"
   ]
  }
 ],
 "metadata": {
  "kernelspec": {
   "display_name": "Python 3",
   "language": "python",
   "name": "python3"
  },
  "language_info": {
   "codemirror_mode": {
    "name": "ipython",
    "version": 3
   },
   "file_extension": ".py",
   "mimetype": "text/x-python",
   "name": "python",
   "nbconvert_exporter": "python",
   "pygments_lexer": "ipython3",
   "version": "3.8.5"
  }
 },
 "nbformat": 4,
 "nbformat_minor": 4
}
