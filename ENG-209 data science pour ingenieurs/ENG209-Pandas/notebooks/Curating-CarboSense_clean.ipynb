{
 "cells": [
  {
   "cell_type": "code",
   "execution_count": 1,
   "metadata": {},
   "outputs": [],
   "source": [
    "%precision\n",
    "\n",
    "import numpy as np\n",
    "import pandas as pd\n",
    "import matplotlib.pyplot as plt"
   ]
  },
  {
   "cell_type": "code",
   "execution_count": 2,
   "metadata": {},
   "outputs": [],
   "source": [
    "CO2_measurement = pd.read_csv('../data/carbosense-raw/CO2_sensor_measurements.csv', sep='\\t', index_col=['timestamp'], parse_dates=True)\n",
    "TH_measurement = pd.read_csv('../data/carbosense-raw/temperature_humidity.csv', sep='\\t', index_col=['Timestamp'], parse_dates=True)\n",
    "sensors_metadata = pd.read_csv('../data/carbosense-raw/sensors_metadata_updated.csv')"
   ]
  },
  {
   "cell_type": "code",
   "execution_count": 3,
   "metadata": {},
   "outputs": [],
   "source": [
    "grouped_avg_CO2 = CO2_measurement.groupby('SensorUnit_ID').resample(rule='30min').CO2.mean().interpolate()"
   ]
  },
  {
   "cell_type": "code",
   "execution_count": 4,
   "metadata": {},
   "outputs": [],
   "source": [
    "all_sensors = CO2_measurement.SensorUnit_ID.unique()"
   ]
  },
  {
   "cell_type": "code",
   "execution_count": 13,
   "metadata": {},
   "outputs": [
    {
     "name": "stdout",
     "output_type": "stream",
     "text": [
      "CPU times: user 1.13 s, sys: 49.3 ms, total: 1.18 s\n",
      "Wall time: 1.19 s\n"
     ]
    }
   ],
   "source": [
    "%%time\n",
    "all_frames = pd.DataFrame()\n",
    "for sensor in all_sensors:\n",
    "    avg_T = TH_measurement[str(sensor) + '.temperature'].resample(rule = '30min').mean().interpolate()\n",
    "    avg_H = TH_measurement[str(sensor) + '.humidity'].resample(rule = '30min').mean().interpolate()\n",
    "    \n",
    "    LN = CO2_measurement[CO2_measurement['SensorUnit_ID'] == sensor].LocationName[0]\n",
    "    \n",
    "    this_frame = pd.DataFrame(columns = ['Sensor_ID', 'T', 'H', 'CO2', 'Location_Name', 'Zone_in_Zurich', 'lon', 'lat', 'altitude'])\n",
    "    this_frame['T']   = avg_T\n",
    "    this_frame['H']   = avg_H\n",
    "    this_frame['CO2'] = grouped_avg_CO2[sensor]\n",
    "    \n",
    "    this_frame.loc[:,'Sensor_ID'] = sensor\n",
    "    this_frame.loc[:,'Location_Name'] = LN\n",
    "    \n",
    "    this_frame.loc[:,'Zone_in_Zurich'] = sensors_metadata[sensors_metadata.LocationName == LN].zone.values[0]\n",
    "    \n",
    "    all_frames = all_frames.append(this_frame)"
   ]
  },
  {
   "cell_type": "code",
   "execution_count": 14,
   "metadata": {},
   "outputs": [],
   "source": [
    "# Fill missing values for uniformity between temp hum and co2\n",
    "all_frames['CO2'] = all_frames['CO2'].interpolate()"
   ]
  },
  {
   "cell_type": "code",
   "execution_count": 15,
   "metadata": {},
   "outputs": [
    {
     "name": "stdout",
     "output_type": "stream",
     "text": [
      "<class 'pandas.core.frame.DataFrame'>\n",
      "DatetimeIndex: 68448 entries, 2017-10-01 00:00:00 to 2017-10-31 23:30:00\n",
      "Data columns (total 9 columns):\n",
      " #   Column          Non-Null Count  Dtype  \n",
      "---  ------          --------------  -----  \n",
      " 0   Sensor_ID       68448 non-null  int64  \n",
      " 1   T               68448 non-null  float64\n",
      " 2   H               68448 non-null  float64\n",
      " 3   CO2             68448 non-null  float64\n",
      " 4   Location_Name   68448 non-null  object \n",
      " 5   Zone_in_Zurich  68448 non-null  int64  \n",
      " 6   lon             0 non-null      object \n",
      " 7   lat             0 non-null      object \n",
      " 8   altitude        0 non-null      object \n",
      "dtypes: float64(3), int64(2), object(4)\n",
      "memory usage: 5.2+ MB\n"
     ]
    }
   ],
   "source": [
    "all_frames.info()"
   ]
  },
  {
   "cell_type": "code",
   "execution_count": 16,
   "metadata": {},
   "outputs": [],
   "source": [
    "all_frames.to_csv(\"Carbosense-October2017_curated.csv\")"
   ]
  },
  {
   "cell_type": "markdown",
   "metadata": {},
   "source": [
    "### Exercise : fill missing columns"
   ]
  }
 ],
 "metadata": {
  "kernelspec": {
   "display_name": "Python 3",
   "language": "python",
   "name": "python3"
  },
  "language_info": {
   "codemirror_mode": {
    "name": "ipython",
    "version": 3
   },
   "file_extension": ".py",
   "mimetype": "text/x-python",
   "name": "python",
   "nbconvert_exporter": "python",
   "pygments_lexer": "ipython3",
   "version": "3.8.5"
  }
 },
 "nbformat": 4,
 "nbformat_minor": 4
}
