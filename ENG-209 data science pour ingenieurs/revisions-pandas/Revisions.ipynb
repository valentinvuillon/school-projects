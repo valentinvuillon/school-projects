{
 "cells": [
  {
   "cell_type": "markdown",
   "metadata": {},
   "source": [
    "# Révisions\n",
    "\n",
    "Ce notebook a pour but de revoir les concepts importants de la librairie `pandas` pour la manipulation de données en datascience.\n"
   ]
  },
  {
   "cell_type": "markdown",
   "metadata": {},
   "source": [
    "## COVID dataset\n",
    "Commençons pas importer les bibliothèques nécessaires :"
   ]
  },
  {
   "cell_type": "code",
   "execution_count": null,
   "metadata": {},
   "outputs": [],
   "source": [
    "import pandas as pd\n",
    "import matplotlib.pyplot as plt\n",
    "%matplotlib inline"
   ]
  },
  {
   "cell_type": "markdown",
   "metadata": {},
   "source": [
    "### Receuillir les données \n",
    "- Importez les données au format `.csv` depuis l'adresse : `\"https://raw.githubusercontent.com/openZH/covid_19/master/COVID19_Fallzahlen_CH_total_v2.csv\"`\n",
    "- Parser la colonne `'date'` pour avoir une série `dtype='datetime64[ns]'`\n",
    "- Définir la colonne `'date'` comme index et vérifier que c'est bien un `DatetimeIndex`\n",
    "\n",
    "On propose ici deux approches :\n",
    "\n",
    "\\#1 : En 3 étapes "
   ]
  },
  {
   "cell_type": "code",
   "execution_count": null,
   "metadata": {},
   "outputs": [],
   "source": [
    "csv_file = \"https://raw.githubusercontent.com/openZH/covid_19/master/COVID19_Fallzahlen_CH_total_v2.csv\"\n",
    "\n",
    "# ----- importer les données -----\n",
    "# votre code (à modifier):\n",
    "df_covid = pd.DataFrame()\n",
    "\n",
    "# regardons le résultat\n",
    "df_covid.head()\n",
    "\n",
    "# ----- parser les dates dans la colonne 'date' -----\n",
    "# votre code :\n",
    "\n",
    "\n",
    "# verifier le type de la série 'date' (décommentez au fur et à mesure)\n",
    "# df_covid.date\n",
    "\n",
    "# ---- définir l'index -----\n",
    "# votre code :\n",
    "\n",
    "\n",
    "# verifions (décommentez au fur et à mesure)\n",
    "# df_covid.head()"
   ]
  },
  {
   "cell_type": "code",
   "execution_count": null,
   "metadata": {},
   "outputs": [],
   "source": [
    "# final check \n",
    "df_covid.info()"
   ]
  },
  {
   "cell_type": "markdown",
   "metadata": {},
   "source": [
    "\\# 2 : En 1 étape :"
   ]
  },
  {
   "cell_type": "code",
   "execution_count": null,
   "metadata": {},
   "outputs": [],
   "source": [
    "# importer les données\n",
    "csv_file = \"https://raw.githubusercontent.com/openZH/covid_19/master/COVID19_Fallzahlen_CH_total_v2.csv\"\n",
    "\n",
    "# votre code (à modifier):\n",
    "df_covid = pd.DataFrame()\n",
    "\n",
    "# regardons le résultat\n",
    "df_covid.head()"
   ]
  },
  {
   "cell_type": "code",
   "execution_count": null,
   "metadata": {},
   "outputs": [],
   "source": [
    "# final check \n",
    "df_covid.info()"
   ]
  },
  {
   "cell_type": "markdown",
   "metadata": {},
   "source": [
    "---\n",
    "### Explorer les donnés\n",
    "\n",
    "- Renommer la colonne `'abbreviation_canton_and_fl'` en `'canton'`\n",
    "- Comptez les cantons et les afficher par ordre alphabétique\n"
   ]
  },
  {
   "cell_type": "code",
   "execution_count": null,
   "metadata": {},
   "outputs": [],
   "source": [
    "# renommer la colonne \n",
    "# votre code (à modifier):\n",
    "\n",
    "# vérifions\n",
    "df_covid.info()"
   ]
  },
  {
   "cell_type": "code",
   "execution_count": null,
   "metadata": {},
   "outputs": [],
   "source": [
    "# compter les cantons (depuis la dataframe)\n",
    "# votre code (à modifier):\n",
    "cantons = ['']\n",
    "\n",
    "cantons.sort()\n",
    "print(f'Les {len(cantons)} cantons présents sont : {\", \".join(cantons[:-1])} et {cantons[-1]}')"
   ]
  },
  {
   "cell_type": "markdown",
   "metadata": {},
   "source": [
    "---\n",
    "### Sélectionner des données \n",
    "\n",
    "Les données des cantons sont actuellement en format long, c'est à dire que l'on a une colonne 'canton' qui porte les valeurs 'GE', 'VD', etc ...\n",
    "\n",
    "- Montrer les données `'current_hosp'` du canton de Vaud. \n",
    "\n",
    "**Indice** : Utiliser des méthodes de sélection (`df[df['colonne'] == 'critère']`, `.query('colonne == \"critère\"')` etc ...)"
   ]
  },
  {
   "cell_type": "code",
   "execution_count": null,
   "metadata": {},
   "outputs": [],
   "source": [
    "# ploter 'current_hosp' pour canton == 'VD'\n",
    "# votre code (à modifier):\n",
    "df_vd = pd.DataFrame()\n",
    "\n",
    "# ploter\n"
   ]
  },
  {
   "cell_type": "markdown",
   "metadata": {},
   "source": [
    "On souhaiterait comparer certains cantons entre eux :\n",
    "- Visualiser `'current_hosp'` pour les cantons `'VD', 'VS', 'GE', 'ZH'`"
   ]
  },
  {
   "cell_type": "code",
   "execution_count": null,
   "metadata": {},
   "outputs": [],
   "source": [
    "# selectionner plusieurs valeurs pour les cantons\n",
    "cantons_selected = ['VD', 'VS', 'GE', 'ZH']\n",
    "# votre code (à modifier):\n",
    "df_sel_cantons = pd.DataFrame()\n",
    "\n",
    "# verifier\n",
    "# df_sel_cantons.canton.unique()"
   ]
  },
  {
   "cell_type": "code",
   "execution_count": null,
   "metadata": {},
   "outputs": [],
   "source": [
    "# ploter 'current_hosp' pour les cantons sélectionnés\n",
    "# votre code (à modifier):\n"
   ]
  },
  {
   "cell_type": "markdown",
   "metadata": {},
   "source": [
    "Cette approche n'est pas très pratique et elle demande un nombre de lignes de code important. De plus on ne tire pas parti de la capacité de pandas à ploter des séries en un seul appel de fonction."
   ]
  },
  {
   "cell_type": "markdown",
   "metadata": {},
   "source": [
    "---\n",
    "### Réorganiser les données \n",
    "\n",
    "Nous allons réorganiser les données.\n",
    "\n",
    "- Réorganiser les données pour avoir une colonne par canton et les valeurs de `'current_hosp'` pour chaque canton en fonction du jour (en index)\n",
    "- Visualiser à nouveau `'current_hosp'` pour les cantons `'VD', 'VS', 'GE', 'ZH'` en exploitant la nouvelle structure de données\n",
    "\n",
    "**Indice**: Utiliser la fonction `.pivot()`"
   ]
  },
  {
   "cell_type": "code",
   "execution_count": null,
   "metadata": {},
   "outputs": [],
   "source": [
    "# votre code (à modifier):\n",
    "df_hosp_pivot = pd.DataFrame()\n",
    "\n",
    "# vérifions\n",
    "df_hosp_pivot"
   ]
  },
  {
   "cell_type": "code",
   "execution_count": null,
   "metadata": {},
   "outputs": [],
   "source": [
    "# ploter les cantons 'VD', 'VS', 'GE', 'ZH'\n",
    "# votre code (à modifier):\n"
   ]
  },
  {
   "cell_type": "markdown",
   "metadata": {},
   "source": [
    "C'est quand même plus simple non ? 😉"
   ]
  },
  {
   "cell_type": "markdown",
   "metadata": {},
   "source": [
    "---\n",
    "### Grouper \n",
    "\n",
    "On va utilisez la méthode `'.groupby()'` pour avoir les infos par cantons\n",
    "\n",
    "- Trouvez le minimum et le maximum de `'current_hosp'` pour chaque canton\n",
    "- Visualiser le nombre cumulé de décès pour tous les cantons `'ncumul_deceased'`\n",
    "\n",
    "**Indice** : Vous pouvez utiliser la méthode `.agg()` pour créer des nouvelles colonnes contenant des statistiques telles que `min` et `max`"
   ]
  },
  {
   "cell_type": "code",
   "execution_count": null,
   "metadata": {},
   "outputs": [],
   "source": [
    "# grouper par canton pour calculer le min et le max par canton de 'current_hosp'\n",
    "# votre code (à modifier):\n",
    "df_cantons_minmax = pd.DataFrame()\n",
    "\n",
    "# vérifions\n",
    "df_cantons_minmax"
   ]
  },
  {
   "cell_type": "markdown",
   "metadata": {},
   "source": [
    "Le groupby est égalemetn pratique si l'on veut ploter tous les cantons d'un coup :"
   ]
  },
  {
   "cell_type": "code",
   "execution_count": null,
   "metadata": {},
   "outputs": [],
   "source": [
    "# utiliser un groupby pour plot avec 1 ligne de code\n",
    "# votre code (à modifier):\n"
   ]
  },
  {
   "cell_type": "markdown",
   "metadata": {},
   "source": [
    "---\n",
    "### Statistiques sur toute la suisse\n",
    "\n",
    "On veut maintenant visualiser l'évolution du nombre d'hospitalisations pour toute la suisse\n",
    "\n",
    "- Montrer l'évolution du nombre d'hospitalisations `'current_hosp'` pour la Suisse entière\n",
    "\n",
    "**Indice** : Pensez à comment grouper les données et à comment passer des hospitalisations par canton aux hospitalisations pour toute la suisse"
   ]
  },
  {
   "cell_type": "code",
   "execution_count": null,
   "metadata": {},
   "outputs": [],
   "source": [
    "# votre code (à modifier):\n"
   ]
  },
  {
   "cell_type": "markdown",
   "metadata": {},
   "source": [
    "---\n",
    "### Comparer les données normalisées\n",
    "\n",
    "On a pu comparer les chiffres bruts pour chaque canton par rapport aux autres mais cette mesure n'est pas très approprié si la taille des cantons n'est pas du même ordre. On souhaite comparer les cantons en nombre d'hospitalisation / habitant.\n",
    "On va donc normaliser les données en utilisant les informations de population pour chaque canton\n",
    "\n",
    "#### Importer les données de cantons\n",
    "- Importer les données de canton depuis `'data_cantons.csv'`\n",
    "    - Faites attention au format, les colonnes ne sont peut être pas séparées par des `,`\n",
    "    - N'importez que les données de `'Langue', 'Canton' et 'Population'`\n"
   ]
  },
  {
   "cell_type": "code",
   "execution_count": null,
   "metadata": {},
   "outputs": [],
   "source": [
    "# importer les données de cantons\n",
    "# votre code (à modifier):\n",
    "df_cantons = pd.DataFrame()\n",
    "\n",
    "# vérifions\n",
    "df_cantons"
   ]
  },
  {
   "cell_type": "markdown",
   "metadata": {},
   "source": [
    "### Utiliser les données\n",
    "\n",
    "- Fusionner les données du dataframe `covid` avec les données de population\n",
    "- Créer une nouvelle colonne `'normalized_hosp'` telle que :\n",
    "\n",
    "$$\\mathrm{normalized\\_hosp} = \\frac{\\mathrm{current\\_hosp}}{\\mathrm{population}}$$\n",
    "\n",
    "- Visualisez les données normalisées et concluez"
   ]
  },
  {
   "cell_type": "code",
   "execution_count": null,
   "metadata": {},
   "outputs": [],
   "source": [
    "# votre code (à modifier):\n",
    "df_norm = pd.DataFrame()\n",
    "\n",
    "# vérifions\n",
    "df_norm"
   ]
  },
  {
   "cell_type": "code",
   "execution_count": null,
   "metadata": {},
   "outputs": [],
   "source": [
    "# ajouter une nouvelle colonne 'normalized_hosp'\n",
    "# votre code (à modifier):\n",
    "df_norm['normalized_hosp'] = 0\n",
    "\n",
    "# vérifions\n",
    "df_norm.normalized_hosp"
   ]
  },
  {
   "cell_type": "code",
   "execution_count": null,
   "metadata": {},
   "outputs": [],
   "source": [
    "# visualiser les données normalisées\n",
    "# votre code (à modifier):\n"
   ]
  },
  {
   "cell_type": "markdown",
   "metadata": {},
   "source": [
    "> _Votre conclusion ici (double cliquez pour modifier le Markdown)_ "
   ]
  },
  {
   "cell_type": "markdown",
   "metadata": {},
   "source": [
    "---\n",
    "### Sélectionner en fonction de la date\n",
    "\n",
    "- Sélectionnez les entrées qui sont antérieures au 1er Juin 2020 (`'2020-06-01'`)\n",
    "\n",
    "**Indice** : Utiliser `pd.date_range()` pour créer un `DatetimeIndex`"
   ]
  },
  {
   "cell_type": "code",
   "execution_count": null,
   "metadata": {},
   "outputs": [],
   "source": [
    "# dates avant le 2020-06-01\n",
    "# votre code (à modifier):\n",
    "dates = ...\n",
    "\n",
    "# selectionner les données\n",
    "# votre code (à modifier):\n",
    "df_first = pd.DataFrame()\n",
    "\n",
    "# vérifions\n",
    "df_first"
   ]
  },
  {
   "cell_type": "markdown",
   "metadata": {},
   "source": [
    "- Montrez les données d'hospitalisation (antérieures au 1er Juin 2020) pour les 4 cantons avec la plus faible population\n",
    "\n",
    "**Indice** : `.sort_values` permet de trier les valeurs d'une Série par ordre croissant ou décroissant (paramètre `ascending=`)"
   ]
  },
  {
   "cell_type": "code",
   "execution_count": null,
   "metadata": {},
   "outputs": [],
   "source": [
    "# cantons avec la plus faible population\n",
    "# votre code (à modifier):\n",
    "petits_cantons = ...\n",
    "\n",
    "# vérifions\n",
    "petits_cantons"
   ]
  },
  {
   "cell_type": "code",
   "execution_count": null,
   "metadata": {},
   "outputs": [],
   "source": [
    "# ploter\n",
    "# votre code (à modifier):\n"
   ]
  },
  {
   "cell_type": "markdown",
   "metadata": {},
   "source": [
    "---"
   ]
  },
  {
   "cell_type": "code",
   "execution_count": null,
   "metadata": {},
   "outputs": [],
   "source": []
  }
 ],
 "metadata": {
  "kernelspec": {
   "display_name": "Python 3",
   "language": "python",
   "name": "python3"
  },
  "language_info": {
   "codemirror_mode": {
    "name": "ipython",
    "version": 3
   },
   "file_extension": ".py",
   "mimetype": "text/x-python",
   "name": "python",
   "nbconvert_exporter": "python",
   "pygments_lexer": "ipython3",
   "version": "3.7.6"
  }
 },
 "nbformat": 4,
 "nbformat_minor": 4
}
